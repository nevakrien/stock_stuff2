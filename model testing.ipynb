{
 "cells": [
  {
   "cell_type": "code",
   "execution_count": 1,
   "id": "c90642e4",
   "metadata": {},
   "outputs": [],
   "source": [
    "#shamelesly stealing https://www.tensorflow.org/text/tutorials/classify_text_with_bert\n",
    "import bert_handle as bert\n",
    "import tensorflow_hub as hub\n",
    "import tensorflow_text"
   ]
  },
  {
   "cell_type": "code",
   "execution_count": 2,
   "id": "3606593b",
   "metadata": {},
   "outputs": [
    {
     "name": "stdout",
     "output_type": "stream",
     "text": [
      "BERT model selected           : https://tfhub.dev/tensorflow/small_bert/bert_en_uncased_L-4_H-512_A-8/1\n",
      "Preprocess model auto-selected: https://tfhub.dev/tensorflow/bert_en_uncased_preprocess/3\n"
     ]
    }
   ],
   "source": [
    "bert_stuff=bert.get_bert(bert.bert_model_name)"
   ]
  },
  {
   "cell_type": "code",
   "execution_count": 4,
   "id": "1430752d",
   "metadata": {},
   "outputs": [
    {
     "name": "stdout",
     "output_type": "stream",
     "text": [
      "WARNING:tensorflow:Please fix your imports. Module tensorflow.python.training.tracking.data_structures has been moved to tensorflow.python.trackable.data_structures. The old module will be deleted in version 2.11.\n"
     ]
    }
   ],
   "source": [
    "bert_preprocess_model = hub.KerasLayer(bert_stuff[\"tfhub_handle_preprocess\"])\n",
    "bert_model = hub.KerasLayer(bert_stuff[\"tfhub_handle_encoder\"])"
   ]
  },
  {
   "cell_type": "code",
   "execution_count": 5,
   "id": "9166ee30",
   "metadata": {},
   "outputs": [
    {
     "name": "stdout",
     "output_type": "stream",
     "text": [
      "Keys       : ['input_word_ids', 'input_mask', 'input_type_ids']\n",
      "Shape      : (1, 128)\n",
      "Word Ids   : [  101  2310 21885  2239  4806  1006  1058  2480  1007 12154  2004  3006]\n",
      "Input Mask : [1 1 1 1 1 1 1 1 1 1 1 1]\n",
      "Type Ids   : [0 0 0 0 0 0 0 0 0 0 0 0]\n"
     ]
    }
   ],
   "source": [
    "text_test = ['Verizon Communications (VZ) Gains As Market Dips: What You Should Know ']\n",
    "text_preprocessed = bert_preprocess_model(text_test)\n",
    "\n",
    "print(f'Keys       : {list(text_preprocessed.keys())}')\n",
    "print(f'Shape      : {text_preprocessed[\"input_word_ids\"].shape}')\n",
    "print(f'Word Ids   : {text_preprocessed[\"input_word_ids\"][0, :12]}')\n",
    "print(f'Input Mask : {text_preprocessed[\"input_mask\"][0, :12]}')\n",
    "print(f'Type Ids   : {text_preprocessed[\"input_type_ids\"][0, :12]}')"
   ]
  },
  {
   "cell_type": "code",
   "execution_count": 6,
   "id": "c184cb6d",
   "metadata": {},
   "outputs": [
    {
     "name": "stdout",
     "output_type": "stream",
     "text": [
      "Loaded BERT: https://tfhub.dev/tensorflow/small_bert/bert_en_uncased_L-4_H-512_A-8/1\n",
      "Pooled Outputs Shape:(1, 512)\n",
      "Pooled Outputs Values:[ 0.8751533   0.9615815   0.12347147  0.32359508  0.05750876  0.9694411\n",
      "  0.9846227  -0.79250544 -0.10360485 -0.9978143  -0.12245995 -0.985213  ]\n",
      "Sequence Outputs Shape:(1, 128, 512)\n",
      "Sequence Outputs Values:[[ 0.46611235 -0.23308545  1.291422   ... -0.76153916  0.32311335\n",
      "  -0.219411  ]\n",
      " [ 0.41399637 -0.7157209  -0.2752384  ... -0.31453577  0.8399521\n",
      "  -0.98781025]\n",
      " [ 0.17573708  0.6077015   0.02832541 ... -0.5685752   0.7769697\n",
      "   0.7286631 ]\n",
      " ...\n",
      " [ 0.35955298  0.37087652  0.6157819  ... -0.38470975  0.9454852\n",
      "   0.52486944]\n",
      " [ 0.14542109  0.88189965  0.29846963 ... -0.6534967  -0.5762236\n",
      "  -0.4375792 ]\n",
      " [-0.5927848   0.15682581  0.13009605 ... -0.19035406  0.29293072\n",
      "  -0.5804826 ]]\n"
     ]
    }
   ],
   "source": [
    "bert_results = bert_model(text_preprocessed)\n",
    "\n",
    "print(f'Loaded BERT: {bert_stuff[\"tfhub_handle_encoder\"]}')\n",
    "print(f'Pooled Outputs Shape:{bert_results[\"pooled_output\"].shape}')\n",
    "print(f'Pooled Outputs Values:{bert_results[\"pooled_output\"][0, :12]}')\n",
    "print(f'Sequence Outputs Shape:{bert_results[\"sequence_output\"].shape}')\n",
    "print(f'Sequence Outputs Values:{bert_results[\"sequence_output\"][0, :12]}')"
   ]
  },
  {
   "cell_type": "code",
   "execution_count": null,
   "id": "5781ef15",
   "metadata": {},
   "outputs": [],
   "source": []
  }
 ],
 "metadata": {
  "kernelspec": {
   "display_name": "Python 3 (ipykernel)",
   "language": "python",
   "name": "python3"
  },
  "language_info": {
   "codemirror_mode": {
    "name": "ipython",
    "version": 3
   },
   "file_extension": ".py",
   "mimetype": "text/x-python",
   "name": "python",
   "nbconvert_exporter": "python",
   "pygments_lexer": "ipython3",
   "version": "3.9.7"
  }
 },
 "nbformat": 4,
 "nbformat_minor": 5
}
