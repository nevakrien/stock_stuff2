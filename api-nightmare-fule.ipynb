{
 "cells": [
  {
   "cell_type": "code",
   "execution_count": 32,
   "id": "54f6dee3",
   "metadata": {
    "scrolled": true
   },
   "outputs": [],
   "source": [
    "#import ibapi\n",
    "import ib_insync\n",
    "from ib_insync import *\n",
    "import pandas as pd\n",
    "import concurrent"
   ]
  },
  {
   "cell_type": "code",
   "execution_count": 34,
   "id": "facf1380",
   "metadata": {},
   "outputs": [
    {
     "data": {
      "text/plain": [
       "<IB connected to 127.0.0.1:7496 clientId=1>"
      ]
     },
     "execution_count": 34,
     "metadata": {},
     "output_type": "execute_result"
    }
   ],
   "source": [
    "util.startLoop()  # blackmagic\n",
    "\n",
    "ib = IB()\n",
    "ib.connect('127.0.0.1', 7496, clientId=1,readonly=True)"
   ]
  },
  {
   "cell_type": "code",
   "execution_count": 55,
   "id": "2f932124",
   "metadata": {},
   "outputs": [
    {
     "name": "stderr",
     "output_type": "stream",
     "text": [
      "Error 162, reqId 28: Historical Market Data Service error message:No market data permissions for NYSE STK. Requested market data requires additional subscription for API. See link in 'Market Data Connections' dialog for more details., contract: Stock(symbol='VZ', exchange='SMART', currency='USD')\n"
     ]
    },
    {
     "ename": "AttributeError",
     "evalue": "'NoneType' object has no attribute 'set_index'",
     "output_type": "error",
     "traceback": [
      "\u001b[1;31m---------------------------------------------------------------------------\u001b[0m",
      "\u001b[1;31mAttributeError\u001b[0m                            Traceback (most recent call last)",
      "\u001b[1;32m~\\AppData\\Local\\Temp/ipykernel_43976/3056155116.py\u001b[0m in \u001b[0;36m<module>\u001b[1;34m\u001b[0m\n\u001b[0;32m      8\u001b[0m \u001b[1;33m\u001b[0m\u001b[0m\n\u001b[0;32m      9\u001b[0m \u001b[1;31m# convert to pandas dataframe:\u001b[0m\u001b[1;33m\u001b[0m\u001b[1;33m\u001b[0m\u001b[0m\n\u001b[1;32m---> 10\u001b[1;33m \u001b[0mdf_mid\u001b[0m \u001b[1;33m=\u001b[0m \u001b[0mutil\u001b[0m\u001b[1;33m.\u001b[0m\u001b[0mdf\u001b[0m\u001b[1;33m(\u001b[0m\u001b[0mbars\u001b[0m\u001b[1;33m)\u001b[0m\u001b[1;33m.\u001b[0m\u001b[0mset_index\u001b[0m\u001b[1;33m(\u001b[0m\u001b[1;34m\"date\"\u001b[0m\u001b[1;33m)\u001b[0m\u001b[1;33m.\u001b[0m\u001b[0mrename\u001b[0m\u001b[1;33m(\u001b[0m\u001b[0maxis\u001b[0m\u001b[1;33m=\u001b[0m\u001b[1;36m1\u001b[0m\u001b[1;33m,\u001b[0m\u001b[0mmapper\u001b[0m\u001b[1;33m=\u001b[0m\u001b[1;32mlambda\u001b[0m \u001b[0mn\u001b[0m\u001b[1;33m:\u001b[0m \u001b[1;34m\"mid \"\u001b[0m\u001b[1;33m+\u001b[0m\u001b[0mn\u001b[0m\u001b[1;33m)\u001b[0m\u001b[1;33m\u001b[0m\u001b[1;33m\u001b[0m\u001b[0m\n\u001b[0m\u001b[0;32m     11\u001b[0m \u001b[1;33m\u001b[0m\u001b[0m\n\u001b[0;32m     12\u001b[0m bars = ib.reqHistoricalData(\n",
      "\u001b[1;31mAttributeError\u001b[0m: 'NoneType' object has no attribute 'set_index'"
     ]
    }
   ],
   "source": [
    "#contract = Forex('EURUSD')\n",
    "#contract=Stock('WINE', 'SMART', 'GBP')\n",
    "contract=Stock('VZ', 'SMART', 'USD')\n",
    "\n",
    "bars = ib.reqHistoricalData(\n",
    "    contract, endDateTime='', durationStr='1 D',\n",
    "    barSizeSetting='1 min', whatToShow='MIDPOINT', useRTH=True)\n",
    "\n",
    "# convert to pandas dataframe:\n",
    "df_mid = util.df(bars).set_index(\"date\").rename(axis=1,mapper=lambda n: \"mid \"+n)\n",
    "\n",
    "bars = ib.reqHistoricalData(\n",
    "    contract, endDateTime='', durationStr='1 D',\n",
    "    barSizeSetting='1 min', whatToShow='ASK', useRTH=True)\n",
    "\n",
    "# convert to pandas dataframe:\n",
    "df_ask = util.df(bars).set_index(\"date\").rename(axis=1,mapper=lambda n: \"ask \"+n)\n",
    "\n",
    "bars = ib.reqHistoricalData(\n",
    "    contract, endDateTime='', durationStr='1 D',\n",
    "    barSizeSetting='1 min', whatToShow='BID', useRTH=True)\n",
    "\n",
    "df_bid = util.df(bars).set_index(\"date\").rename(axis=1,mapper=lambda n: \"bid \"+n)\n",
    "\n",
    "pd.concat([df_mid,df_ask,df_bid],axis=1)"
   ]
  },
  {
   "cell_type": "code",
   "execution_count": 54,
   "id": "b086ec6a",
   "metadata": {},
   "outputs": [
    {
     "ename": "AttributeError",
     "evalue": "'NoneType' object has no attribute 'drop'",
     "output_type": "error",
     "traceback": [
      "\u001b[1;31m---------------------------------------------------------------------------\u001b[0m",
      "\u001b[1;31mAttributeError\u001b[0m                            Traceback (most recent call last)",
      "\u001b[1;32m~\\AppData\\Local\\Temp/ipykernel_43976/1482079807.py\u001b[0m in \u001b[0;36m<module>\u001b[1;34m\u001b[0m\n\u001b[0;32m      1\u001b[0m \u001b[0mticker\u001b[0m\u001b[1;33m=\u001b[0m\u001b[0mib\u001b[0m\u001b[1;33m.\u001b[0m\u001b[0mreqMktDepth\u001b[0m\u001b[1;33m(\u001b[0m\u001b[0mcontract\u001b[0m\u001b[1;33m)\u001b[0m\u001b[1;33m\u001b[0m\u001b[1;33m\u001b[0m\u001b[0m\n\u001b[1;32m----> 2\u001b[1;33m \u001b[0mutil\u001b[0m\u001b[1;33m.\u001b[0m\u001b[0mdf\u001b[0m\u001b[1;33m(\u001b[0m\u001b[0mticker\u001b[0m\u001b[1;33m.\u001b[0m\u001b[0mdomBids\u001b[0m\u001b[1;33m)\u001b[0m\u001b[1;33m.\u001b[0m\u001b[0mdrop\u001b[0m\u001b[1;33m(\u001b[0m\u001b[0mcolumns\u001b[0m\u001b[1;33m=\u001b[0m\u001b[1;33m[\u001b[0m\u001b[1;34m\"marketMaker\"\u001b[0m\u001b[1;33m]\u001b[0m\u001b[1;33m)\u001b[0m\u001b[1;33m.\u001b[0m\u001b[0msort_values\u001b[0m\u001b[1;33m(\u001b[0m\u001b[1;34m\"price\"\u001b[0m\u001b[1;33m)\u001b[0m\u001b[1;33m\u001b[0m\u001b[1;33m\u001b[0m\u001b[0m\n\u001b[0m\u001b[0;32m      3\u001b[0m \u001b[0mutil\u001b[0m\u001b[1;33m.\u001b[0m\u001b[0mdf\u001b[0m\u001b[1;33m(\u001b[0m\u001b[0mticker\u001b[0m\u001b[1;33m.\u001b[0m\u001b[0mdomAsks\u001b[0m\u001b[1;33m)\u001b[0m\u001b[1;33m.\u001b[0m\u001b[0mdrop\u001b[0m\u001b[1;33m(\u001b[0m\u001b[0mcolumns\u001b[0m\u001b[1;33m=\u001b[0m\u001b[1;33m[\u001b[0m\u001b[1;34m\"marketMaker\"\u001b[0m\u001b[1;33m]\u001b[0m\u001b[1;33m)\u001b[0m\u001b[1;33m.\u001b[0m\u001b[0msort_values\u001b[0m\u001b[1;33m(\u001b[0m\u001b[1;34m\"price\"\u001b[0m\u001b[1;33m)\u001b[0m\u001b[1;33m\u001b[0m\u001b[1;33m\u001b[0m\u001b[0m\n",
      "\u001b[1;31mAttributeError\u001b[0m: 'NoneType' object has no attribute 'drop'"
     ]
    },
    {
     "name": "stderr",
     "output_type": "stream",
     "text": [
      "Error 10092, reqId 27: Deep market data is not supported for this combination of security type/exchange, contract: Stock(symbol='VZ', exchange='SMART', currency='USD')\n"
     ]
    }
   ],
   "source": [
    "ticker=ib.reqMktDepth(contract)\n",
    "util.df(ticker.domBids).drop(columns=[\"marketMaker\"]).sort_values(\"price\")\n",
    "util.df(ticker.domAsks).drop(columns=[\"marketMaker\"]).sort_values(\"price\")"
   ]
  },
  {
   "cell_type": "code",
   "execution_count": 56,
   "id": "122e5372",
   "metadata": {},
   "outputs": [
    {
     "name": "stderr",
     "output_type": "stream",
     "text": [
      "Error 10187, reqId 29: Failed to request historical ticks:No market data permissions for NYSE STK, contract: Stock(symbol='VZ', exchange='SMART', currency='USD')\n"
     ]
    }
   ],
   "source": [
    "ticks=ib.reqHistoricalTicks(contract, '', datetime.datetime.now()-datetime.timedelta(hours=3), 1000, 'TRADES', False)\n",
    "df=util.df(ticks)\n",
    "df"
   ]
  },
  {
   "cell_type": "code",
   "execution_count": 57,
   "id": "6c8c738a",
   "metadata": {},
   "outputs": [
    {
     "data": {
      "text/plain": [
       "Ticker(contract=Stock(symbol='T', exchange='SMART', currency='USD'))"
      ]
     },
     "execution_count": 57,
     "metadata": {},
     "output_type": "execute_result"
    },
    {
     "name": "stderr",
     "output_type": "stream",
     "text": [
      "Error 10189, reqId 30: Failed to request tick-by-tick data.No market data permissions for NYSE STK. Requested market data requires additional subscription for API. See link in 'Market Data Connections' dialog for more details., contract: Stock(symbol='T', exchange='SMART', currency='USD')\n",
      "Error 317, reqId 8: Market depth data has been RESET. Please empty deep book contents before applying any new entries., contract: Forex('EURUSD', exchange='IDEALPRO')\n",
      "Error 317, reqId 9: Market depth data has been RESET. Please empty deep book contents before applying any new entries., contract: Forex('EURUSD', exchange='IDEALPRO')\n",
      "Error 317, reqId 7: Market depth data has been RESET. Please empty deep book contents before applying any new entries., contract: Forex('EURUSD', exchange='IDEALPRO')\n",
      "Error 1100, reqId -1: Connectivity between IB and TWS has been lost.\n"
     ]
    }
   ],
   "source": [
    "#ib.reqHistogramData(contract,useRTH=True,period=\"3 days\")\n",
    "a=ib.reqTickByTickData(Stock(\"T\",\"SMART\",currency=\"USD\"),\"AllLast\")\n",
    "a"
   ]
  },
  {
   "cell_type": "code",
   "execution_count": 12,
   "id": "91439ad2",
   "metadata": {},
   "outputs": [
    {
     "name": "stdout",
     "output_type": "stream",
     "text": [
      "[NewsProvider(code='BRFG', name='Briefing.com General Market Columns'), NewsProvider(code='BRFUPDN', name='Briefing.com Analyst Actions'), NewsProvider(code='DJNL', name='Dow Jones Newsletters')]\n",
      "HistoricalNews(time=datetime.datetime(2022, 7, 22, 11, 34, 40), providerCode='BRFUPDN', articleId='BRFUPDN$121e1888', headline='{A:800015:L:en:K:-0.97:C:0.97}!Barclays downgraded AT&amp;T (T) to Equal Weight with target $20')\n",
      "NewsArticle(articleType=0, articleText='Barclays downgraded AT&amp;T (T) to Equal Weight rating with price target $20&#10;Previous rating: Overweight&#10;Previous price target: $22&#10;Issuance Date: 2022-07-22&#10;&#10;Copyright 2022 Briefing.com, Inc.')\n"
     ]
    }
   ],
   "source": [
    "#returns html for god sake\n",
    "newsProviders = ib.reqNewsProviders()\n",
    "print(newsProviders)\n",
    "codes = '+'.join(np.code for np in newsProviders)\n",
    "\n",
    "stock = Stock('T', 'SMART', 'USD')\n",
    "ib.qualifyContracts(stock)\n",
    "headlines = ib.reqHistoricalNews(stock.conId, codes, '2020-10-10', '', 10)\n",
    "latest = headlines[0]\n",
    "print(latest)\n",
    "article = ib.reqNewsArticle(latest.providerCode, latest.articleId)\n",
    "print(article)"
   ]
  },
  {
   "cell_type": "code",
   "execution_count": 25,
   "id": "9f677e0a",
   "metadata": {},
   "outputs": [
    {
     "data": {
      "text/plain": [
       "[[range(0, 0), range(0, 1), range(0, 2), range(0, 3), range(0, 4)],\n",
       " [range(0, 0), range(0, 1), range(0, 2), range(0, 3), range(0, 4)]]"
      ]
     },
     "execution_count": 25,
     "metadata": {},
     "output_type": "execute_result"
    }
   ],
   "source": [
    "def thread_distribute(l,f,n=1):\n",
    "    #print(type(l))\n",
    "    if(n==0):\n",
    "        return f(l)\n",
    "    \n",
    "    with concurrent.futures.ThreadPoolExecutor() as executor: \n",
    "        l=[executor.submit(lambda x: thread_distribute(x,f,n-1),x) for x in l]\n",
    "        l= [x.result() for x in l]\n",
    "    return l\n",
    "\n",
    "thread_distribute([range(5) for i in range(2)],lambda x: range(x),2)"
   ]
  },
  {
   "cell_type": "code",
   "execution_count": 52,
   "id": "7bb32a40",
   "metadata": {},
   "outputs": [
    {
     "data": {
      "text/plain": [
       "Stock(symbol='VZ', exchange='SMART', currency='USD')"
      ]
     },
     "execution_count": 52,
     "metadata": {},
     "output_type": "execute_result"
    }
   ],
   "source": [
    "contr"
   ]
  },
  {
   "cell_type": "code",
   "execution_count": null,
   "id": "09513a91",
   "metadata": {},
   "outputs": [],
   "source": []
  }
 ],
 "metadata": {
  "kernelspec": {
   "display_name": "Python 3 (ipykernel)",
   "language": "python",
   "name": "python3"
  },
  "language_info": {
   "codemirror_mode": {
    "name": "ipython",
    "version": 3
   },
   "file_extension": ".py",
   "mimetype": "text/x-python",
   "name": "python",
   "nbconvert_exporter": "python",
   "pygments_lexer": "ipython3",
   "version": "3.9.7"
  }
 },
 "nbformat": 4,
 "nbformat_minor": 5
}
