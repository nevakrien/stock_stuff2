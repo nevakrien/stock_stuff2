{
 "cells": [
  {
   "cell_type": "code",
   "execution_count": null,
   "id": "7f8ab35e",
   "metadata": {},
   "outputs": [],
   "source": [
    "from pprint import pprint\n",
    "from configparser import ConfigParser\n",
    "from ibc.client import InteractiveBrokersClient\n",
    "import configparser\n",
    "\n",
    "import requests as req\n",
    "import json\n",
    "import bs4"
   ]
  },
  {
   "cell_type": "code",
   "execution_count": null,
   "id": "ec9b43d6",
   "metadata": {
    "scrolled": true
   },
   "outputs": [],
   "source": [
    "print(configparser.__file__)"
   ]
  },
  {
   "cell_type": "code",
   "execution_count": null,
   "id": "ad1e45f0",
   "metadata": {},
   "outputs": [],
   "source": [
    "with req.get(\"https://gdcdyn.interactivebrokers.com/portal.proxy/v1/portal/swagger/swagger?format=yaml\") as r:\n",
    "    j=r.content"
   ]
  },
  {
   "cell_type": "code",
   "execution_count": null,
   "id": "0f058467",
   "metadata": {},
   "outputs": [],
   "source": [
    "bs4.BeautifulSoup(j).find"
   ]
  },
  {
   "cell_type": "code",
   "execution_count": 4,
   "id": "ffbef2e5",
   "metadata": {},
   "outputs": [
    {
     "data": {
      "text/plain": [
       "dict_keys(['__name__', '__doc__', '__package__', '__loader__', '__spec__', '__path__', '__file__', '__cached__', '__builtins__', 'VERSION', 'get_version_string', '__version__'])"
      ]
     },
     "execution_count": 4,
     "metadata": {},
     "output_type": "execute_result"
    }
   ],
   "source": [
    "import ibapi\n",
    "ibapi.__dict__.keys()"
   ]
  },
  {
   "cell_type": "code",
   "execution_count": null,
   "id": "85fe438c",
   "metadata": {},
   "outputs": [],
   "source": [
    "ibapi."
   ]
  },
  {
   "cell_type": "code",
   "execution_count": null,
   "id": "ff3dcefe",
   "metadata": {},
   "outputs": [],
   "source": [
    "TBB.__dict__.keys()"
   ]
  },
  {
   "cell_type": "code",
   "execution_count": null,
   "id": "70de781e",
   "metadata": {},
   "outputs": [],
   "source": []
  }
 ],
 "metadata": {
  "kernelspec": {
   "display_name": "Python 3 (ipykernel)",
   "language": "python",
   "name": "python3"
  },
  "language_info": {
   "codemirror_mode": {
    "name": "ipython",
    "version": 3
   },
   "file_extension": ".py",
   "mimetype": "text/x-python",
   "name": "python",
   "nbconvert_exporter": "python",
   "pygments_lexer": "ipython3",
   "version": "3.9.7"
  }
 },
 "nbformat": 4,
 "nbformat_minor": 5
}
