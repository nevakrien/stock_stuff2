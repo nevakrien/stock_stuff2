{
 "cells": [
  {
   "cell_type": "code",
   "execution_count": 1,
   "id": "b4474900",
   "metadata": {},
   "outputs": [],
   "source": [
    "import requests\n",
    "import bs4\n",
    "import datetime\n",
    "import re  \n",
    "import json"
   ]
  },
  {
   "cell_type": "markdown",
   "id": "daa21982",
   "metadata": {},
   "source": [
    "# geting the data from the web \n",
    "1. posts: \n",
    "    1.  text\n",
    "    1. engagment data \n",
    "    1. flairs \n",
    "    1. poster\n",
    "1. time"
   ]
  },
  {
   "cell_type": "code",
   "execution_count": 2,
   "id": "b8073ef9",
   "metadata": {},
   "outputs": [],
   "source": [
    "def isscroler(css_class):\n",
    "    return css_class is not None and \"scrollerItem\" in css_class\n",
    "\n",
    "def get_d(b):\n",
    "    l=b.find_all(\"html\")[0].find_all(\"script\",{\"id\":\"data\"})[0]\n",
    "    #isolate the dictionary.\n",
    "    jsonStr = re.search(r'\\{.*\\}', str(l)).group()\n",
    "    # Create dictionary\n",
    "    return json.loads(jsonStr)[\"posts\"][\"models\"] \n",
    "\n",
    "def get_info(b):\n",
    "    d=get_d(b)\n",
    "    scrolers=b.find_all(class_=isscroler) \n",
    "    ans=[]\n",
    "    for x in scrolers:\n",
    "        if(\"Post\" not in x.attrs[\"class\"]):\n",
    "            print(\"skiped\")\n",
    "            continue\n",
    "        base=x.find_all(role=\"screen-reader\")\n",
    "        comments=[\"href\" in x.parent.parent.parent.attrs.keys() for x in base]\n",
    "        base=[x.text for x in base]\n",
    "        base=list(zip(base,comments))\n",
    "        base.extend([\"missing entry\" for _ in range(2-len(base))])\n",
    "        \n",
    "        meta=d[x.attrs[\"id\"]]\n",
    "        #if (\"source\" in meta.keys()):\n",
    "        for k in [\"numComments\",\"upvoteRatio\",\"score\",\"authorId\",\"title\"]:\n",
    "            base.append(meta[k])\n",
    "        \n",
    "        base.append([f[\"text\"] for f in meta[\"flair\"]])\n",
    "            \n",
    "        try: \n",
    "            base.append(d[x.attrs[\"id\"]][\"media\"][\"richtextContent\"][\"document\"])\n",
    "        except:\n",
    "            base.append(\"empty\")\n",
    "        ans.append(base)\n",
    "    return ans\n",
    "\n",
    "START=\"https://web.archive.org/web/\"\n",
    "def get_time(raw):\n",
    "    if(raw.url[:28]!=START):\n",
    "        raise(\"you are passing the wrong url\")\n",
    "    s=raw.url[28:].split(\"/\")[0]\n",
    "    year=int(s[0:4])\n",
    "    month=int(s[4:6])\n",
    "    day=int(s[6:8])\n",
    "    hour=int(s[8:10])\n",
    "    minute=int(s[10:12])\n",
    "    second=int(s[12:14])\n",
    "    return datetime.datetime(year=year,month=month,day=day,hour=hour,minute=minute,second=second)"
   ]
  },
  {
   "cell_type": "code",
   "execution_count": 85,
   "id": "8fb70145",
   "metadata": {},
   "outputs": [
    {
     "name": "stdout",
     "output_type": "stream",
     "text": [
      "skiped\n"
     ]
    },
    {
     "data": {
      "text/plain": [
       "([['missing entry',\n",
       "   'missing entry',\n",
       "   243,\n",
       "   0.88,\n",
       "   31,\n",
       "   't2_6l4z3',\n",
       "   'Weekly - What Car Should I Buy Megathread',\n",
       "   [],\n",
       "   [{'c': [{'e': 'raw', 't': 'Weekly - What Car Should I Buy Megathread'}],\n",
       "     'e': 'h',\n",
       "     'l': 1},\n",
       "    {'e': 'hr'},\n",
       "    {'c': [{'e': 'text',\n",
       "       't': 'Any posts pertaining to car buying suggestions or advice go in this weekly Megathread. A fresh thread will be posted every Monday and posts auto sorted by new. A few other subreddits worth checking out that will help your car buying expierance is '},\n",
       "      {'e': 'r/', 't': 'WhatCarShouldIBuy', 'l': True},\n",
       "      {'e': 'text', 't': ', '},\n",
       "      {'e': 'r/', 't': 'UsedCars', 'l': True},\n",
       "      {'e': 'text', 't': ' and '},\n",
       "      {'e': 'r/', 't': 'AskCarSales', 'l': True},\n",
       "      {'e': 'text',\n",
       "       't': '. Make/Model specific questions should be asked on Make/Model specific subreddits. Check the '},\n",
       "      {'e': 'link',\n",
       "       'u': 'https://web.archive.org/web/20210104005418/https://www.reddit.com/r/AutosNetwork/wiki/main',\n",
       "       't': 'AutosNetwork'},\n",
       "      {'e': 'text',\n",
       "       't': ' for a complete list of those subreddits. Also check out our community made '},\n",
       "      {'e': 'link',\n",
       "       'u': 'https://web.archive.org/web/20210104005418/https://www.reddit.com/r/cars/wiki/whatcarshouldibuy',\n",
       "       't': 'Ultimate car buying wiki'}],\n",
       "     'e': 'par'},\n",
       "    {'e': 'hr'},\n",
       "    {'c': [{'e': 'raw', 't': 'For those posting,'}], 'e': 'h', 'l': 3},\n",
       "    {'c': [{'e': 'text',\n",
       "       't': 'Please use the following template in your post.'}],\n",
       "     'e': 'par'},\n",
       "    {'c': [{'c': [{'c': [{'c': [{'e': 'text',\n",
       "             't': 'Location: (Specify your country or region)',\n",
       "             'f': [[1, 0, 9]]}],\n",
       "           'e': 'par'}],\n",
       "         'e': 'li'}],\n",
       "       'e': 'list',\n",
       "       'o': False}],\n",
       "     'e': 'blockquote'},\n",
       "    {'c': [{'c': [{'c': [{'c': [{'e': 'text',\n",
       "             't': 'Price range: (Minimum-Maximum in your local currency)',\n",
       "             'f': [[1, 0, 12]]}],\n",
       "           'e': 'par'}],\n",
       "         'e': 'li'}],\n",
       "       'e': 'list',\n",
       "       'o': False}],\n",
       "     'e': 'blockquote'},\n",
       "    {'c': [{'c': [{'c': [{'c': [{'e': 'text',\n",
       "             't': 'Lease or Buy:',\n",
       "             'f': [[1, 0, 13]]}],\n",
       "           'e': 'par'}],\n",
       "         'e': 'li'}],\n",
       "       'e': 'list',\n",
       "       'o': False}],\n",
       "     'e': 'blockquote'},\n",
       "    {'c': [{'c': [{'c': [{'c': [{'e': 'text',\n",
       "             't': 'New or used:',\n",
       "             'f': [[1, 0, 12]]}],\n",
       "           'e': 'par'}],\n",
       "         'e': 'li'}],\n",
       "       'e': 'list',\n",
       "       'o': False}],\n",
       "     'e': 'blockquote'}]],\n",
       "  ['missing entry',\n",
       "   'missing entry',\n",
       "   20,\n",
       "   0.77,\n",
       "   13,\n",
       "   't2_t0tmz',\n",
       "   '$5K USD challenge. Find the most interesting or obscure stuff in your area',\n",
       "   [],\n",
       "   [{'c': [{'e': 'text',\n",
       "       't': \"2021 Week One. Mask up. Stay strong. There's light at the end of the tunnel. Whatcha Got?\"}],\n",
       "     'e': 'par'}]],\n",
       "  [('1504', False),\n",
       "   ('58', True),\n",
       "   69,\n",
       "   0.97,\n",
       "   1658,\n",
       "   't2_56511e77',\n",
       "   'Blind man builds a Yamaha R1 powered mini',\n",
       "   ['video'],\n",
       "   'empty'],\n",
       "  [('219', False),\n",
       "   ('40', True),\n",
       "   49,\n",
       "   0.88,\n",
       "   250,\n",
       "   't2_3rtuv',\n",
       "   '[TheTopher] Drifting a C8 Corvette in the Snow',\n",
       "   ['video'],\n",
       "   'empty'],\n",
       "  [('253', False),\n",
       "   ('135', True),\n",
       "   156,\n",
       "   0.93,\n",
       "   288,\n",
       "   't2_3dbd7sl',\n",
       "   '2020 Dodge Challenger SRT Super Stock Review - Throttle House',\n",
       "   ['video'],\n",
       "   'empty']],\n",
       " datetime.datetime(2021, 1, 4, 0, 54, 18))"
      ]
     },
     "execution_count": 85,
     "metadata": {},
     "output_type": "execute_result"
    }
   ],
   "source": [
    "def mine(url):\n",
    "    r=requests.get(url)\n",
    "    r.close()\n",
    "    b=bs4.BeautifulSoup(r.content)\n",
    "    return (get_info(b),get_time(r))\n",
    "#mined=mine(\"https://web.archive.org/web/20210103/https://www.reddit.com/r/WhatCarShouldIBuy/\")\n",
    "mined=mine(\"https://web.archive.org/web/20210104005418/https://www.reddit.com/r/cars/\")\n",
    "mined"
   ]
  },
  {
   "cell_type": "code",
   "execution_count": 86,
   "id": "d6295e2e",
   "metadata": {},
   "outputs": [
    {
     "data": {
      "text/plain": [
       "[9, 9, 9, 9, 9]"
      ]
     },
     "execution_count": 86,
     "metadata": {},
     "output_type": "execute_result"
    }
   ],
   "source": [
    "ls=[len(x) for x in mined[0]]\n",
    "LENGTH=max(ls)\n",
    "ls"
   ]
  },
  {
   "cell_type": "code",
   "execution_count": 131,
   "id": "d817b69a",
   "metadata": {},
   "outputs": [
    {
     "data": {
      "text/plain": [
       "[[[],\n",
       "  [],\n",
       "  [],\n",
       "  [],\n",
       "  [(0, 6, dict_keys(['c', 'e', 'o']))],\n",
       "  [(0, 7, dict_keys(['c', 'e', 'o']))],\n",
       "  [(0, 8, dict_keys(['c', 'e', 'o']))],\n",
       "  [(0, 9, dict_keys(['c', 'e', 'o']))]],\n",
       " [[]]]"
      ]
     },
     "execution_count": 131,
     "metadata": {},
     "output_type": "execute_result"
    }
   ],
   "source": [
    "#mined[0][-1][-1]\n",
    "#[[(y,i) for y in x[-1] if \"c\" not in y.keys()] for i,x in enumerate(mined[0]) if type(x[-1][0])==dict]\n",
    "[[[(k,i,x.keys()) for x in y[\"c\"] if \"t\" not in x.keys()] for i,y in enumerate(exmple[-1]) if y[\"e\"] != \"hr\"] for k,exmple in enumerate(mined[0]) if exmple[-1] !=\"empty\"]"
   ]
  },
  {
   "cell_type": "code",
   "execution_count": 134,
   "id": "4e30e063",
   "metadata": {},
   "outputs": [
    {
     "data": {
      "text/plain": [
       "{'c': [{'c': [{'c': [{'c': [{'e': 'text',\n",
       "         't': 'Price range: (Minimum-Maximum in your local currency)',\n",
       "         'f': [[1, 0, 12]]}],\n",
       "       'e': 'par'}],\n",
       "     'e': 'li'}],\n",
       "   'e': 'list',\n",
       "   'o': False}],\n",
       " 'e': 'blockquote'}"
      ]
     },
     "execution_count": 134,
     "metadata": {},
     "output_type": "execute_result"
    }
   ],
   "source": [
    "#print( mined[0][0][-3])\n",
    "x=mined[0][0][-1]\n",
    "#l=[x[\"c\"] for x in x]\n",
    "#[[x[\"t\"] for x in y[\"c\"]] for y in x]\n",
    "x[7]"
   ]
  },
  {
   "cell_type": "code",
   "execution_count": 120,
   "id": "c571690c",
   "metadata": {},
   "outputs": [
    {
     "ename": "KeyError",
     "evalue": "'t'",
     "output_type": "error",
     "traceback": [
      "\u001b[1;31m---------------------------------------------------------------------------\u001b[0m",
      "\u001b[1;31mKeyError\u001b[0m                                  Traceback (most recent call last)",
      "\u001b[1;32m~\\AppData\\Local\\Temp/ipykernel_5544/1582993872.py\u001b[0m in \u001b[0;36m<module>\u001b[1;34m\u001b[0m\n\u001b[0;32m     11\u001b[0m     \u001b[0mx\u001b[0m \u001b[1;33m=\u001b[0m\u001b[1;33m[\u001b[0m\u001b[0mstringit\u001b[0m\u001b[1;33m(\u001b[0m\u001b[0mx\u001b[0m\u001b[1;33m)\u001b[0m \u001b[1;32mfor\u001b[0m \u001b[0mx\u001b[0m \u001b[1;32min\u001b[0m \u001b[0mx\u001b[0m\u001b[1;33m]\u001b[0m\u001b[1;33m\u001b[0m\u001b[1;33m\u001b[0m\u001b[0m\n\u001b[0;32m     12\u001b[0m     \u001b[1;32mreturn\u001b[0m \u001b[0mstringit\u001b[0m\u001b[1;33m(\u001b[0m\u001b[0mx\u001b[0m\u001b[1;33m)\u001b[0m\u001b[1;33m\u001b[0m\u001b[1;33m\u001b[0m\u001b[0m\n\u001b[1;32m---> 13\u001b[1;33m \u001b[0ms\u001b[0m\u001b[1;33m=\u001b[0m\u001b[0mstringit\u001b[0m\u001b[1;33m(\u001b[0m\u001b[1;33m[\u001b[0m\u001b[0mextract_text\u001b[0m\u001b[1;33m(\u001b[0m\u001b[0mx\u001b[0m\u001b[1;33m[\u001b[0m\u001b[1;33m-\u001b[0m\u001b[1;36m1\u001b[0m\u001b[1;33m]\u001b[0m\u001b[1;33m)\u001b[0m\u001b[1;33m+\u001b[0m\u001b[1;34m\"\\n___________\\n\\n\"\u001b[0m \u001b[1;32mfor\u001b[0m \u001b[0mx\u001b[0m \u001b[1;32min\u001b[0m \u001b[0mmined\u001b[0m\u001b[1;33m[\u001b[0m\u001b[1;36m0\u001b[0m\u001b[1;33m]\u001b[0m\u001b[1;33m]\u001b[0m\u001b[1;33m)\u001b[0m\u001b[1;33m\u001b[0m\u001b[1;33m\u001b[0m\u001b[0m\n\u001b[0m\u001b[0;32m     14\u001b[0m \u001b[0mprint\u001b[0m\u001b[1;33m(\u001b[0m\u001b[0ms\u001b[0m\u001b[1;33m)\u001b[0m\u001b[1;33m\u001b[0m\u001b[1;33m\u001b[0m\u001b[0m\n",
      "\u001b[1;32m~\\AppData\\Local\\Temp/ipykernel_5544/1582993872.py\u001b[0m in \u001b[0;36m<listcomp>\u001b[1;34m(.0)\u001b[0m\n\u001b[0;32m     11\u001b[0m     \u001b[0mx\u001b[0m \u001b[1;33m=\u001b[0m\u001b[1;33m[\u001b[0m\u001b[0mstringit\u001b[0m\u001b[1;33m(\u001b[0m\u001b[0mx\u001b[0m\u001b[1;33m)\u001b[0m \u001b[1;32mfor\u001b[0m \u001b[0mx\u001b[0m \u001b[1;32min\u001b[0m \u001b[0mx\u001b[0m\u001b[1;33m]\u001b[0m\u001b[1;33m\u001b[0m\u001b[1;33m\u001b[0m\u001b[0m\n\u001b[0;32m     12\u001b[0m     \u001b[1;32mreturn\u001b[0m \u001b[0mstringit\u001b[0m\u001b[1;33m(\u001b[0m\u001b[0mx\u001b[0m\u001b[1;33m)\u001b[0m\u001b[1;33m\u001b[0m\u001b[1;33m\u001b[0m\u001b[0m\n\u001b[1;32m---> 13\u001b[1;33m \u001b[0ms\u001b[0m\u001b[1;33m=\u001b[0m\u001b[0mstringit\u001b[0m\u001b[1;33m(\u001b[0m\u001b[1;33m[\u001b[0m\u001b[0mextract_text\u001b[0m\u001b[1;33m(\u001b[0m\u001b[0mx\u001b[0m\u001b[1;33m[\u001b[0m\u001b[1;33m-\u001b[0m\u001b[1;36m1\u001b[0m\u001b[1;33m]\u001b[0m\u001b[1;33m)\u001b[0m\u001b[1;33m+\u001b[0m\u001b[1;34m\"\\n___________\\n\\n\"\u001b[0m \u001b[1;32mfor\u001b[0m \u001b[0mx\u001b[0m \u001b[1;32min\u001b[0m \u001b[0mmined\u001b[0m\u001b[1;33m[\u001b[0m\u001b[1;36m0\u001b[0m\u001b[1;33m]\u001b[0m\u001b[1;33m]\u001b[0m\u001b[1;33m)\u001b[0m\u001b[1;33m\u001b[0m\u001b[1;33m\u001b[0m\u001b[0m\n\u001b[0m\u001b[0;32m     14\u001b[0m \u001b[0mprint\u001b[0m\u001b[1;33m(\u001b[0m\u001b[0ms\u001b[0m\u001b[1;33m)\u001b[0m\u001b[1;33m\u001b[0m\u001b[1;33m\u001b[0m\u001b[0m\n",
      "\u001b[1;32m~\\AppData\\Local\\Temp/ipykernel_5544/1582993872.py\u001b[0m in \u001b[0;36mextract_text\u001b[1;34m(x)\u001b[0m\n\u001b[0;32m      8\u001b[0m     \u001b[1;32mif\u001b[0m \u001b[1;33m(\u001b[0m\u001b[0mx\u001b[0m\u001b[1;33m==\u001b[0m\u001b[1;34m\"empty\"\u001b[0m\u001b[1;33m)\u001b[0m\u001b[1;33m:\u001b[0m\u001b[1;33m\u001b[0m\u001b[1;33m\u001b[0m\u001b[0m\n\u001b[0;32m      9\u001b[0m         \u001b[1;32mreturn\u001b[0m \u001b[1;34m\"\"\u001b[0m\u001b[1;33m\u001b[0m\u001b[1;33m\u001b[0m\u001b[0m\n\u001b[1;32m---> 10\u001b[1;33m     \u001b[0mx\u001b[0m\u001b[1;33m=\u001b[0m \u001b[1;33m[\u001b[0m\u001b[1;33m[\u001b[0m\u001b[0mx\u001b[0m\u001b[1;33m[\u001b[0m\u001b[1;34m\"t\"\u001b[0m\u001b[1;33m]\u001b[0m \u001b[1;32mfor\u001b[0m \u001b[0mx\u001b[0m \u001b[1;32min\u001b[0m \u001b[0my\u001b[0m\u001b[1;33m[\u001b[0m\u001b[1;34m\"c\"\u001b[0m\u001b[1;33m]\u001b[0m\u001b[1;33m]\u001b[0m \u001b[1;32mfor\u001b[0m \u001b[0my\u001b[0m \u001b[1;32min\u001b[0m \u001b[0mx\u001b[0m \u001b[1;32mif\u001b[0m \u001b[0my\u001b[0m\u001b[1;33m[\u001b[0m\u001b[1;34m\"e\"\u001b[0m\u001b[1;33m]\u001b[0m \u001b[1;33m!=\u001b[0m \u001b[1;34m\"hr\"\u001b[0m\u001b[1;33m]\u001b[0m\u001b[1;31m#\"c\" in y.keys()]\u001b[0m\u001b[1;33m\u001b[0m\u001b[1;33m\u001b[0m\u001b[0m\n\u001b[0m\u001b[0;32m     11\u001b[0m     \u001b[0mx\u001b[0m \u001b[1;33m=\u001b[0m\u001b[1;33m[\u001b[0m\u001b[0mstringit\u001b[0m\u001b[1;33m(\u001b[0m\u001b[0mx\u001b[0m\u001b[1;33m)\u001b[0m \u001b[1;32mfor\u001b[0m \u001b[0mx\u001b[0m \u001b[1;32min\u001b[0m \u001b[0mx\u001b[0m\u001b[1;33m]\u001b[0m\u001b[1;33m\u001b[0m\u001b[1;33m\u001b[0m\u001b[0m\n\u001b[0;32m     12\u001b[0m     \u001b[1;32mreturn\u001b[0m \u001b[0mstringit\u001b[0m\u001b[1;33m(\u001b[0m\u001b[0mx\u001b[0m\u001b[1;33m)\u001b[0m\u001b[1;33m\u001b[0m\u001b[1;33m\u001b[0m\u001b[0m\n",
      "\u001b[1;32m~\\AppData\\Local\\Temp/ipykernel_5544/1582993872.py\u001b[0m in \u001b[0;36m<listcomp>\u001b[1;34m(.0)\u001b[0m\n\u001b[0;32m      8\u001b[0m     \u001b[1;32mif\u001b[0m \u001b[1;33m(\u001b[0m\u001b[0mx\u001b[0m\u001b[1;33m==\u001b[0m\u001b[1;34m\"empty\"\u001b[0m\u001b[1;33m)\u001b[0m\u001b[1;33m:\u001b[0m\u001b[1;33m\u001b[0m\u001b[1;33m\u001b[0m\u001b[0m\n\u001b[0;32m      9\u001b[0m         \u001b[1;32mreturn\u001b[0m \u001b[1;34m\"\"\u001b[0m\u001b[1;33m\u001b[0m\u001b[1;33m\u001b[0m\u001b[0m\n\u001b[1;32m---> 10\u001b[1;33m     \u001b[0mx\u001b[0m\u001b[1;33m=\u001b[0m \u001b[1;33m[\u001b[0m\u001b[1;33m[\u001b[0m\u001b[0mx\u001b[0m\u001b[1;33m[\u001b[0m\u001b[1;34m\"t\"\u001b[0m\u001b[1;33m]\u001b[0m \u001b[1;32mfor\u001b[0m \u001b[0mx\u001b[0m \u001b[1;32min\u001b[0m \u001b[0my\u001b[0m\u001b[1;33m[\u001b[0m\u001b[1;34m\"c\"\u001b[0m\u001b[1;33m]\u001b[0m\u001b[1;33m]\u001b[0m \u001b[1;32mfor\u001b[0m \u001b[0my\u001b[0m \u001b[1;32min\u001b[0m \u001b[0mx\u001b[0m \u001b[1;32mif\u001b[0m \u001b[0my\u001b[0m\u001b[1;33m[\u001b[0m\u001b[1;34m\"e\"\u001b[0m\u001b[1;33m]\u001b[0m \u001b[1;33m!=\u001b[0m \u001b[1;34m\"hr\"\u001b[0m\u001b[1;33m]\u001b[0m\u001b[1;31m#\"c\" in y.keys()]\u001b[0m\u001b[1;33m\u001b[0m\u001b[1;33m\u001b[0m\u001b[0m\n\u001b[0m\u001b[0;32m     11\u001b[0m     \u001b[0mx\u001b[0m \u001b[1;33m=\u001b[0m\u001b[1;33m[\u001b[0m\u001b[0mstringit\u001b[0m\u001b[1;33m(\u001b[0m\u001b[0mx\u001b[0m\u001b[1;33m)\u001b[0m \u001b[1;32mfor\u001b[0m \u001b[0mx\u001b[0m \u001b[1;32min\u001b[0m \u001b[0mx\u001b[0m\u001b[1;33m]\u001b[0m\u001b[1;33m\u001b[0m\u001b[1;33m\u001b[0m\u001b[0m\n\u001b[0;32m     12\u001b[0m     \u001b[1;32mreturn\u001b[0m \u001b[0mstringit\u001b[0m\u001b[1;33m(\u001b[0m\u001b[0mx\u001b[0m\u001b[1;33m)\u001b[0m\u001b[1;33m\u001b[0m\u001b[1;33m\u001b[0m\u001b[0m\n",
      "\u001b[1;32m~\\AppData\\Local\\Temp/ipykernel_5544/1582993872.py\u001b[0m in \u001b[0;36m<listcomp>\u001b[1;34m(.0)\u001b[0m\n\u001b[0;32m      8\u001b[0m     \u001b[1;32mif\u001b[0m \u001b[1;33m(\u001b[0m\u001b[0mx\u001b[0m\u001b[1;33m==\u001b[0m\u001b[1;34m\"empty\"\u001b[0m\u001b[1;33m)\u001b[0m\u001b[1;33m:\u001b[0m\u001b[1;33m\u001b[0m\u001b[1;33m\u001b[0m\u001b[0m\n\u001b[0;32m      9\u001b[0m         \u001b[1;32mreturn\u001b[0m \u001b[1;34m\"\"\u001b[0m\u001b[1;33m\u001b[0m\u001b[1;33m\u001b[0m\u001b[0m\n\u001b[1;32m---> 10\u001b[1;33m     \u001b[0mx\u001b[0m\u001b[1;33m=\u001b[0m \u001b[1;33m[\u001b[0m\u001b[1;33m[\u001b[0m\u001b[0mx\u001b[0m\u001b[1;33m[\u001b[0m\u001b[1;34m\"t\"\u001b[0m\u001b[1;33m]\u001b[0m \u001b[1;32mfor\u001b[0m \u001b[0mx\u001b[0m \u001b[1;32min\u001b[0m \u001b[0my\u001b[0m\u001b[1;33m[\u001b[0m\u001b[1;34m\"c\"\u001b[0m\u001b[1;33m]\u001b[0m\u001b[1;33m]\u001b[0m \u001b[1;32mfor\u001b[0m \u001b[0my\u001b[0m \u001b[1;32min\u001b[0m \u001b[0mx\u001b[0m \u001b[1;32mif\u001b[0m \u001b[0my\u001b[0m\u001b[1;33m[\u001b[0m\u001b[1;34m\"e\"\u001b[0m\u001b[1;33m]\u001b[0m \u001b[1;33m!=\u001b[0m \u001b[1;34m\"hr\"\u001b[0m\u001b[1;33m]\u001b[0m\u001b[1;31m#\"c\" in y.keys()]\u001b[0m\u001b[1;33m\u001b[0m\u001b[1;33m\u001b[0m\u001b[0m\n\u001b[0m\u001b[0;32m     11\u001b[0m     \u001b[0mx\u001b[0m \u001b[1;33m=\u001b[0m\u001b[1;33m[\u001b[0m\u001b[0mstringit\u001b[0m\u001b[1;33m(\u001b[0m\u001b[0mx\u001b[0m\u001b[1;33m)\u001b[0m \u001b[1;32mfor\u001b[0m \u001b[0mx\u001b[0m \u001b[1;32min\u001b[0m \u001b[0mx\u001b[0m\u001b[1;33m]\u001b[0m\u001b[1;33m\u001b[0m\u001b[1;33m\u001b[0m\u001b[0m\n\u001b[0;32m     12\u001b[0m     \u001b[1;32mreturn\u001b[0m \u001b[0mstringit\u001b[0m\u001b[1;33m(\u001b[0m\u001b[0mx\u001b[0m\u001b[1;33m)\u001b[0m\u001b[1;33m\u001b[0m\u001b[1;33m\u001b[0m\u001b[0m\n",
      "\u001b[1;31mKeyError\u001b[0m: 't'"
     ]
    }
   ],
   "source": [
    "def stringit(l):\n",
    "    s=\"\"\n",
    "    for x in l:\n",
    "        s+=x\n",
    "    return s+\"\\n\"\n",
    "\n",
    "def extract_text(x):\n",
    "    if (x==\"empty\"):\n",
    "        return \"\"\n",
    "    x= [[x[\"t\"] for x in y[\"c\"]] for y in x if y[\"e\"] != \"hr\"]#\"c\" in y.keys()] \n",
    "    x =[stringit(x) for x in x]\n",
    "    return stringit(x)\n",
    "s=stringit([extract_text(x[-1])+\"\\n___________\\n\\n\" for x in mined[0]])\n",
    "print(s)"
   ]
  },
  {
   "cell_type": "code",
   "execution_count": 94,
   "id": "a279c9d8",
   "metadata": {},
   "outputs": [
    {
     "data": {
      "text/plain": [
       "[[], [], ['video'], ['video'], ['video']]"
      ]
     },
     "execution_count": 94,
     "metadata": {},
     "output_type": "execute_result"
    }
   ],
   "source": [
    "[x[-2] for x in mined[0]]"
   ]
  },
  {
   "cell_type": "markdown",
   "id": "7a09e8a3",
   "metadata": {},
   "source": [
    "# issues found \n",
    "testing at https://web.archive.org/web/20210103/https://www.reddit.com/r/WhatCarShouldIBuy/\n",
    "\n",
    "1. first post dosent fetch comments and upvotes \n",
    "2. fetched comments dont much the dictonary comments"
   ]
  },
  {
   "cell_type": "code",
   "execution_count": null,
   "id": "073c2281",
   "metadata": {},
   "outputs": [],
   "source": [
    "r=requests.get(\"https://web.archive.org/web/20210103/https://www.reddit.com/r/WhatCarShouldIBuy/\")\n",
    "r.close()\n",
    "b=bs4.BeautifulSoup(r.content)\n",
    "scrolers=b.find_all(class_=isscroler)"
   ]
  },
  {
   "cell_type": "code",
   "execution_count": null,
   "id": "865e227a",
   "metadata": {},
   "outputs": [],
   "source": [
    "d=get_d(b)\n",
    "x=d[\"t3_ifhic8\"]\n",
    "x1=d[\"t3_kl86w6\"]\n",
    "\n",
    "[k for k in x.keys() if k not in x1.keys()]"
   ]
  },
  {
   "cell_type": "code",
   "execution_count": null,
   "id": "81085847",
   "metadata": {},
   "outputs": [],
   "source": [
    "x[\"source\"]"
   ]
  },
  {
   "cell_type": "code",
   "execution_count": null,
   "id": "591b201e",
   "metadata": {},
   "outputs": [],
   "source": [
    "x"
   ]
  },
  {
   "cell_type": "code",
   "execution_count": 13,
   "id": "eef99bbb",
   "metadata": {},
   "outputs": [],
   "source": [
    "import striprtf"
   ]
  },
  {
   "cell_type": "code",
   "execution_count": 16,
   "id": "ede97186",
   "metadata": {},
   "outputs": [
    {
     "data": {
      "text/plain": [
       "re.compile(r\"\\\\([a-z]{1,32})(-?\\d{1,10})?[ ]?|\\\\'([0-9a-f]{2})|\\\\([^a-z])|([{}])|[\\r\\n]+|(.)\",\n",
       "re.IGNORECASE|re.UNICODE)"
      ]
     },
     "execution_count": 16,
     "metadata": {},
     "output_type": "execute_result"
    }
   ],
   "source": [
    "striprtf.striprtf.PATTERN"
   ]
  },
  {
   "cell_type": "code",
   "execution_count": null,
   "id": "812ebe47",
   "metadata": {},
   "outputs": [],
   "source": []
  }
 ],
 "metadata": {
  "kernelspec": {
   "display_name": "Python 3 (ipykernel)",
   "language": "python",
   "name": "python3"
  },
  "language_info": {
   "codemirror_mode": {
    "name": "ipython",
    "version": 3
   },
   "file_extension": ".py",
   "mimetype": "text/x-python",
   "name": "python",
   "nbconvert_exporter": "python",
   "pygments_lexer": "ipython3",
   "version": "3.9.7"
  }
 },
 "nbformat": 4,
 "nbformat_minor": 5
}
