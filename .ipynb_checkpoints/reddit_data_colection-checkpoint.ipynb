{
 "cells": [
  {
   "cell_type": "code",
   "execution_count": 1,
   "id": "7c8cfd19",
   "metadata": {},
   "outputs": [],
   "source": [
    "import requests\n",
    "import bs4\n",
    "import datetime\n",
    "import re  \n",
    "import json"
   ]
  },
  {
   "cell_type": "markdown",
   "id": "fc64e5c6",
   "metadata": {},
   "source": [
    "# geting the data from the web \n",
    "1. posts: \n",
    "    1.  text\n",
    "    1. engagment data \n",
    "    1. flairs \n",
    "    1. poster\n",
    "1. time"
   ]
  },
  {
   "cell_type": "code",
   "execution_count": 2,
   "id": "bd11f1e8",
   "metadata": {},
   "outputs": [],
   "source": [
    "def isscroler(css_class):\n",
    "    return css_class is not None and \"scrollerItem\" in css_class\n",
    "\n",
    "def get_d(b):\n",
    "    l=b.find_all(\"html\")[0].find_all(\"script\",{\"id\":\"data\"})[0]\n",
    "    #isolate the dictionary.\n",
    "    jsonStr = re.search(r'\\{.*\\}', str(l)).group()\n",
    "    # Create dictionary\n",
    "    return json.loads(jsonStr)[\"posts\"][\"models\"] \n",
    "\n",
    "def get_info(b):\n",
    "    d=get_d(b)\n",
    "    scrolers=b.find_all(class_=isscroler) \n",
    "    ans=[]\n",
    "    for x in scrolers:\n",
    "        if(\"Post\" not in x.attrs[\"class\"]):\n",
    "            print(\"skiped\")\n",
    "            continue\n",
    "        base=x.find_all(role=\"screen-reader\")\n",
    "        #checking whats the upvotes and what the comments\n",
    "        comments=[\"href\" in x.parent.parent.parent.attrs.keys() for x in base]\n",
    "        base=[x.text for x in base]\n",
    "        base=list(zip(base,comments))\n",
    "        base.extend([\"missing entry\" for _ in range(2-len(base))])\n",
    "        \n",
    "        meta=d[x.attrs[\"id\"]]\n",
    "        #if (\"source\" in meta.keys()):\n",
    "        for k in [\"numComments\",\"upvoteRatio\",\"score\",\"authorId\",\"title\"]:\n",
    "            base.append(meta[k])\n",
    "        \n",
    "        base.append([f[\"text\"] for f in meta[\"flair\"]])\n",
    "            \n",
    "        try: \n",
    "            base.append(d[x.attrs[\"id\"]][\"media\"][\"richtextContent\"][\"document\"])\n",
    "        except:\n",
    "            base.append(\"empty\")\n",
    "        ans.append(base)\n",
    "    return ans\n",
    "\n",
    "START=\"https://web.archive.org/web/\"\n",
    "def get_time(raw):\n",
    "    if(raw.url[:28]!=START):\n",
    "        raise(\"you are passing the wrong url\")\n",
    "    s=raw.url[28:].split(\"/\")[0]\n",
    "    year=int(s[0:4])\n",
    "    month=int(s[4:6])\n",
    "    day=int(s[6:8])\n",
    "    hour=int(s[8:10])\n",
    "    minute=int(s[10:12])\n",
    "    second=int(s[12:14])\n",
    "    return datetime.datetime(year=year,month=month,day=day,hour=hour,minute=minute,second=second)"
   ]
  },
  {
   "cell_type": "code",
   "execution_count": 163,
   "id": "1065ac9c",
   "metadata": {},
   "outputs": [
    {
     "data": {
      "text/plain": [
       "([['missing entry',\n",
       "   'missing entry',\n",
       "   13,\n",
       "   0.94,\n",
       "   38,\n",
       "   't2_4vtjd',\n",
       "   '[META] User flairs are enabled! (And a few other things)',\n",
       "   [],\n",
       "   [{'c': [{'e': 'text',\n",
       "       't': \"Hey all, per a few requests we've enabled user-editable flairs! Just select the blank flair under Community Options and you should be able to edit it from there - let me know if there are any issues. Feel free to add your cars to your profile and strike up the other Miata owners here about their Miatas. (One of us! One of us!)\"}],\n",
       "     'e': 'par'},\n",
       "    {'c': [{'e': 'text', 't': 'Some other quick notes:'}], 'e': 'par'},\n",
       "    {'c': [{'e': 'text',\n",
       "       't': \"- We've somewhat recently enabled images and other sources in posts. Despite a bit of an uptick in spam, it seems to be a success; the recent posts to help review specific ads have been great and attract interest. We may have to revert this if we get flooded with garbage content, but we'll keep an eye out.\"}],\n",
       "     'e': 'par'},\n",
       "    {'c': [{'e': 'text',\n",
       "       't': \"- I've seen some jokes pointed at the $3k Corolla/Civic/Miata gang posts here - mostly lighthearted, though a few seem a bit resentful, provoking some discussion about what we should do as a sub. Just wanted to call out that while they're not an exciting response, posts asking for reliable $3k daily or sports car without other stipulations have a \"},\n",
       "      {'e': 'link',\n",
       "       'u': 'https://web.archive.org/web/20201228172939/https://www.reddit.com/r/whatcarshouldIbuy/comments/iet4cj/the_novices_guide_to_buying_a_cheap_car_3k_or_less/',\n",
       "       't': 'fairly solved answer at this point'},\n",
       "      {'e': 'text',\n",
       "       't': \". And considering cars aren't depreciating as hard during the pandemic, it won't change much in the near future. We tend to be pretty laissez-faire, as we'd like to keep discussion organic without getting picky or over-moderated about post structure, but non-specific questions will likely get obvious answers. Not wanting a Corolla is a totally valid reason to specify you don't want a Corolla! But without that sort of information, any poster - OP or otherwise - should expect other people to likewise suggest the obvious answers to frequent questions. More info is always better!\",\n",
       "       'f': [[1, 255, 54]]}],\n",
       "     'e': 'par'},\n",
       "    {'c': [{'e': 'text',\n",
       "       't': \"- We try to stay fairly hands-off since we're happy with the state of the sub right now, but while I'm putting an announcement up, feel free to throw any suggestions or comments at me/us about the sub!\"}],\n",
       "     'e': 'par'},\n",
       "    {'c': [{'e': 'text',\n",
       "       't': 'EDIT: Fixed an issue with the flairs, they should be editable now.'}],\n",
       "     'e': 'par'}]],\n",
       "  [('478', False),\n",
       "   ('44', True),\n",
       "   53,\n",
       "   0.98,\n",
       "   537,\n",
       "   't2_7o5esq88',\n",
       "   'UPDATE** Made the decision. S4> cla45 amg',\n",
       "   [],\n",
       "   'empty'],\n",
       "  ['missing entry',\n",
       "   'missing entry',\n",
       "   0,\n",
       "   0.26,\n",
       "   0,\n",
       "   't2_258mkjid',\n",
       "   'Center Court is back tonight with a doubleheader on NBA TV! Ja and Kyrie battle in BK, then its Dame vs. LeBron in L.A. Coverage begins at 7:30pm/et. 🏀🔥',\n",
       "   [],\n",
       "   'empty'],\n",
       "  [('10', False),\n",
       "   ('11', True),\n",
       "   15,\n",
       "   0.9,\n",
       "   14,\n",
       "   't2_6gueecr6',\n",
       "   'I have $2,000 cash, and I have conflicted feelings!',\n",
       "   [],\n",
       "   [{'c': [{'e': 'text',\n",
       "       't': 'Currently I am living at home with my parents, so I am able to save up money at a crazy speed. I have 2,000 cash right now, and its just going to keep going up with time (I amassed 2,000 in a little over a month, with bonus at work +selling odds and ends).'}],\n",
       "     'e': 'par'},\n",
       "    {'c': [{'e': 'text',\n",
       "       't': 'I am conflicted on if I should: *Buy a car for 2,000 and have my freedom again *Keep saving until i have enough (3,000-4,000) for what I want (subaru outback/forester) *put down 2,000 at a car dealer on something that is under $5,000 *Go to the bank and get a personal loan for 2,000 or 3,000 to supplement what I dont have, get something good, then hurry up and pay off the personal loan'}],\n",
       "     'e': 'par'},\n",
       "    {'c': [{'e': 'text',\n",
       "       't': 'What do you random internet strangers suggest?'}],\n",
       "     'e': 'par'},\n",
       "    {'c': [{'e': 'text',\n",
       "       't': \"I'm tired of bumming rides off of people like a 14 year old and having no freedom, BUT I do think that paying cash without borrowing is a great idea.\"}],\n",
       "     'e': 'par'}]],\n",
       "  [('8', True),\n",
       "   'missing entry',\n",
       "   11,\n",
       "   1,\n",
       "   2,\n",
       "   't2_7lpv67li',\n",
       "   'A Certified Pre Owned 2015 honda civic, 60k miles. should I get it inspected by a mechanic?',\n",
       "   [],\n",
       "   [{'c': [{'e': 'text',\n",
       "       't': 'Heading to the Honda dealership in a bit. Should I get this thing inspected?'}],\n",
       "     'e': 'par'},\n",
       "    {'c': [{'e': 'link',\n",
       "       'u': 'https://web.archive.org/web/20201228172939/https://www.showcasehonda.com/certified/Honda/2015-Honda-Civic-8d78b5a60a0e0a6b0a53c4e323ad00c3.htm',\n",
       "       't': 'Civic'}],\n",
       "     'e': 'par'}]]],\n",
       " datetime.datetime(2020, 12, 28, 17, 29, 39))"
      ]
     },
     "execution_count": 163,
     "metadata": {},
     "output_type": "execute_result"
    }
   ],
   "source": [
    "def mine(url):\n",
    "    r=requests.get(url)\n",
    "    r.close()\n",
    "    b=bs4.BeautifulSoup(r.content)\n",
    "    return (get_info(b),get_time(r))\n",
    "mined=mine(\"https://web.archive.org/web/20210103/https://www.reddit.com/r/WhatCarShouldIBuy/\")\n",
    "#mined=mine(\"https://web.archive.org/web/20210104005418/https://www.reddit.com/r/cars/\")\n",
    "mined"
   ]
  },
  {
   "cell_type": "code",
   "execution_count": 164,
   "id": "39ef4182",
   "metadata": {},
   "outputs": [
    {
     "data": {
      "text/plain": [
       "[9, 9, 9, 9, 9]"
      ]
     },
     "execution_count": 164,
     "metadata": {},
     "output_type": "execute_result"
    }
   ],
   "source": [
    "ls=[len(x) for x in mined[0]]\n",
    "LENGTH=max(ls)\n",
    "ls"
   ]
  },
  {
   "cell_type": "code",
   "execution_count": 131,
   "id": "8fba5532",
   "metadata": {},
   "outputs": [
    {
     "data": {
      "text/plain": [
       "[[[],\n",
       "  [],\n",
       "  [],\n",
       "  [],\n",
       "  [(0, 6, dict_keys(['c', 'e', 'o']))],\n",
       "  [(0, 7, dict_keys(['c', 'e', 'o']))],\n",
       "  [(0, 8, dict_keys(['c', 'e', 'o']))],\n",
       "  [(0, 9, dict_keys(['c', 'e', 'o']))]],\n",
       " [[]]]"
      ]
     },
     "execution_count": 131,
     "metadata": {},
     "output_type": "execute_result"
    }
   ],
   "source": [
    "#mined[0][-1][-1]\n",
    "#[[(y,i) for y in x[-1] if \"c\" not in y.keys()] for i,x in enumerate(mined[0]) if type(x[-1][0])==dict]\n",
    "[[[(k,i,x.keys()) for x in y[\"c\"] if \"t\" not in x.keys()] for i,y in enumerate(exmple[-1]) if y[\"e\"] != \"hr\"] for k,exmple in enumerate(mined[0]) if exmple[-1] !=\"empty\"]"
   ]
  },
  {
   "cell_type": "code",
   "execution_count": 186,
   "id": "711a0748",
   "metadata": {},
   "outputs": [
    {
     "name": "stdout",
     "output_type": "stream",
     "text": [
      "Hey all, per a few requests we've enabled user-editable flairs! Just select the blank flair under Community Options and you should be able to edit it from there - let me know if there are any issues. Feel free to add your cars to your profile and strike up the other Miata owners here about their Miatas. (One of us! One of us!)\n",
      "\n",
      "\n",
      "Some other quick notes:\n",
      "\n",
      "\n",
      "- We've somewhat recently enabled images and other sources in posts. Despite a bit of an uptick in spam, it seems to be a success; the recent posts to help review specific ads have been great and attract interest. We may have to revert this if we get flooded with garbage content, but we'll keep an eye out.\n",
      "\n",
      "\n",
      "- I've seen some jokes pointed at the $3k Corolla/Civic/Miata gang posts here - mostly lighthearted, though a few seem a bit resentful, provoking some discussion about what we should do as a sub. Just wanted to call out that while they're not an exciting response, posts asking for reliable $3k daily or sports car without other stipulations have a \n",
      "fairly solved answer at this point\n",
      ". And considering cars aren't depreciating as hard during the pandemic, it won't change much in the near future. We tend to be pretty laissez-faire, as we'd like to keep discussion organic without getting picky or over-moderated about post structure, but non-specific questions will likely get obvious answers. Not wanting a Corolla is a totally valid reason to specify you don't want a Corolla! But without that sort of information, any poster - OP or otherwise - should expect other people to likewise suggest the obvious answers to frequent questions. More info is always better!\n",
      "\n",
      "\n",
      "\n",
      "- We try to stay fairly hands-off since we're happy with the state of the sub right now, but while I'm putting an announcement up, feel free to throw any suggestions or comments at me/us about the sub!\n",
      "\n",
      "\n",
      "EDIT: Fixed an issue with the flairs, they should be editable now.\n",
      "\n",
      "\n",
      "\n",
      "____________\n",
      "\n",
      "\n",
      "\n",
      "\n",
      "\n",
      "\n",
      "\n",
      "____________\n",
      "\n",
      "\n",
      "\n",
      "\n",
      "\n",
      "\n",
      "\n",
      "____________\n",
      "\n",
      "Currently I am living at home with my parents, so I am able to save up money at a crazy speed. I have 2,000 cash right now, and its just going to keep going up with time (I amassed 2,000 in a little over a month, with bonus at work +selling odds and ends).\n",
      "\n",
      "\n",
      "I am conflicted on if I should: *Buy a car for 2,000 and have my freedom again *Keep saving until i have enough (3,000-4,000) for what I want (subaru outback/forester) *put down 2,000 at a car dealer on something that is under $5,000 *Go to the bank and get a personal loan for 2,000 or 3,000 to supplement what I dont have, get something good, then hurry up and pay off the personal loan\n",
      "\n",
      "\n",
      "What do you random internet strangers suggest?\n",
      "\n",
      "\n",
      "I'm tired of bumming rides off of people like a 14 year old and having no freedom, BUT I do think that paying cash without borrowing is a great idea.\n",
      "\n",
      "\n",
      "\n",
      "____________\n",
      "\n",
      "Heading to the Honda dealership in a bit. Should I get this thing inspected?\n",
      "\n",
      "\n",
      "Civic\n",
      "\n",
      "\n",
      "\n",
      "____________\n",
      "\n",
      "\n"
     ]
    }
   ],
   "source": [
    "#print( mined[0][0][-3])\n",
    "x=mined[0][1]\n",
    "#l=[x[\"c\"] for x in x]\n",
    "#[[x[\"t\"] for x in y[\"c\"]] for y in x]\n",
    "\n",
    "def list_dig_text(l):\n",
    "    return stringit([dig_text(x) for x in l])\n",
    "def dig_text(d):\n",
    "    ans=\"\"\n",
    "    if type(d)!=dict:\n",
    "        return ans\n",
    "    for k,v in d.items():\n",
    "        if (type(v)==list):\n",
    "            ans+=list_dig_text(v)\n",
    "        elif(k==\"t\"):\n",
    "            ans+=v#+\"\\n\"\n",
    "        elif(v==\"par\"):\n",
    "            pass\n",
    "            ans+=\"\\n\"\n",
    "    return ans\n",
    "def stringit(l):\n",
    "    ans=\"\"\n",
    "    for x in l:\n",
    "        ans+=x+\"\\n\"\n",
    "    return ans\n",
    "print(stringit([list_dig_text(x[-1])+\"\\n____________\\n\" for x in mined[0]]))"
   ]
  },
  {
   "cell_type": "code",
   "execution_count": 94,
   "id": "45755d3e",
   "metadata": {},
   "outputs": [
    {
     "data": {
      "text/plain": [
       "[[], [], ['video'], ['video'], ['video']]"
      ]
     },
     "execution_count": 94,
     "metadata": {},
     "output_type": "execute_result"
    }
   ],
   "source": [
    "[x[-2] for x in mined[0]]"
   ]
  },
  {
   "cell_type": "markdown",
   "id": "27eb6492",
   "metadata": {},
   "source": [
    "# issues found \n",
    "testing at https://web.archive.org/web/20210103/https://www.reddit.com/r/WhatCarShouldIBuy/\n",
    "\n",
    "1. some posts dosent fetch comments and upvotes \n",
    "2. fetched comments dont much the dictonary comments (probably the showed comments is the number of comment threads)"
   ]
  },
  {
   "cell_type": "code",
   "execution_count": null,
   "id": "5713af6f",
   "metadata": {},
   "outputs": [],
   "source": [
    "r=requests.get(\"https://web.archive.org/web/20210103/https://www.reddit.com/r/WhatCarShouldIBuy/\")\n",
    "r.close()\n",
    "b=bs4.BeautifulSoup(r.content)\n",
    "scrolers=b.find_all(class_=isscroler)"
   ]
  },
  {
   "cell_type": "code",
   "execution_count": null,
   "id": "6f5433e9",
   "metadata": {},
   "outputs": [],
   "source": [
    "d=get_d(b)\n",
    "x=d[\"t3_ifhic8\"]\n",
    "x1=d[\"t3_kl86w6\"]\n",
    "\n",
    "[k for k in x.keys() if k not in x1.keys()]"
   ]
  },
  {
   "cell_type": "code",
   "execution_count": null,
   "id": "6692e9e7",
   "metadata": {},
   "outputs": [],
   "source": [
    "x[\"source\"]"
   ]
  },
  {
   "cell_type": "code",
   "execution_count": null,
   "id": "03544393",
   "metadata": {},
   "outputs": [],
   "source": [
    "x"
   ]
  },
  {
   "cell_type": "code",
   "execution_count": 13,
   "id": "c024bac1",
   "metadata": {},
   "outputs": [],
   "source": [
    "import striprtf"
   ]
  },
  {
   "cell_type": "code",
   "execution_count": 16,
   "id": "3a726171",
   "metadata": {},
   "outputs": [
    {
     "data": {
      "text/plain": [
       "re.compile(r\"\\\\([a-z]{1,32})(-?\\d{1,10})?[ ]?|\\\\'([0-9a-f]{2})|\\\\([^a-z])|([{}])|[\\r\\n]+|(.)\",\n",
       "re.IGNORECASE|re.UNICODE)"
      ]
     },
     "execution_count": 16,
     "metadata": {},
     "output_type": "execute_result"
    }
   ],
   "source": [
    "striprtf.striprtf.PATTERN"
   ]
  },
  {
   "cell_type": "code",
   "execution_count": 194,
   "id": "139c950c",
   "metadata": {},
   "outputs": [
    {
     "data": {
      "text/plain": [
       "9.210440366976517"
      ]
     },
     "execution_count": 194,
     "metadata": {},
     "output_type": "execute_result"
    }
   ],
   "source": [
    "import numpy as np \n",
    "np.log(10000+1)"
   ]
  },
  {
   "cell_type": "code",
   "execution_count": null,
   "id": "5d963f48",
   "metadata": {},
   "outputs": [],
   "source": []
  }
 ],
 "metadata": {
  "kernelspec": {
   "display_name": "Python 3 (ipykernel)",
   "language": "python",
   "name": "python3"
  },
  "language_info": {
   "codemirror_mode": {
    "name": "ipython",
    "version": 3
   },
   "file_extension": ".py",
   "mimetype": "text/x-python",
   "name": "python",
   "nbconvert_exporter": "python",
   "pygments_lexer": "ipython3",
   "version": "3.9.7"
  }
 },
 "nbformat": 4,
 "nbformat_minor": 5
}
