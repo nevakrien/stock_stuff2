{
 "cells": [
  {
   "cell_type": "markdown",
   "id": "dd1e287c",
   "metadata": {},
   "source": [
    "# scraping key notes \n",
    "\n",
    "## sources:\n",
    "1. reddit scraping while possible is probably too noisey to be useful\n",
    "\n",
    "2. yahoo scraping can be done by scraping the wayback machine recursively use the article tag with role=article (the rss vertion of it dosent have enough saves in waybckmachine)\n",
    "\n",
    "3. wikipedia scraping is very clean data but unfortunatly there isnt alot of changes so we are again data fin\n",
    "## strategy \n",
    "?????????"
   ]
  },
  {
   "cell_type": "code",
   "execution_count": null,
   "id": "705ef666",
   "metadata": {},
   "outputs": [],
   "source": []
  }
 ],
 "metadata": {
  "kernelspec": {
   "display_name": "Python 3 (ipykernel)",
   "language": "python",
   "name": "python3"
  },
  "language_info": {
   "codemirror_mode": {
    "name": "ipython",
    "version": 3
   },
   "file_extension": ".py",
   "mimetype": "text/x-python",
   "name": "python",
   "nbconvert_exporter": "python",
   "pygments_lexer": "ipython3",
   "version": "3.9.7"
  }
 },
 "nbformat": 4,
 "nbformat_minor": 5
}
