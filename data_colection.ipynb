{
 "cells": [
  {
   "cell_type": "markdown",
   "id": "dd1e287c",
   "metadata": {},
   "source": [
    "# key notes \n",
    "\n",
    "## data sources:\n",
    "1. reddit scraping while possible is probably too noisey to be useful\n",
    "\n",
    "2. yahoo scraping can be done by scraping the wayback machine recursively use the article tag with role=article (the rss vertion of it dosent have enough saves in waybckmachine)\n",
    "\n",
    "3. wikipedia scraping is very clean data but unfortunatly there isnt alot of changes so we are again data fin"
   ]
  },
  {
   "cell_type": "markdown",
   "id": "eaeaea8c",
   "metadata": {},
   "source": [
    "## train strategy \n",
    "###### 1. seperate data into diffrent segments based on how frequantly it gets updated \n",
    "2. make a nested training loop that updates based on that frequncy. (this helps preventing needles recalculations)\n",
    "3. use an lstm on the price data that is prompted with extra information from the other segments"
   ]
  },
  {
   "cell_type": "code",
   "execution_count": null,
   "id": "33facb7a",
   "metadata": {},
   "outputs": [],
   "source": []
  }
 ],
 "metadata": {
  "kernelspec": {
   "display_name": "Python 3 (ipykernel)",
   "language": "python",
   "name": "python3"
  },
  "language_info": {
   "codemirror_mode": {
    "name": "ipython",
    "version": 3
   },
   "file_extension": ".py",
   "mimetype": "text/x-python",
   "name": "python",
   "nbconvert_exporter": "python",
   "pygments_lexer": "ipython3",
   "version": "3.9.7"
  }
 },
 "nbformat": 4,
 "nbformat_minor": 5
}
