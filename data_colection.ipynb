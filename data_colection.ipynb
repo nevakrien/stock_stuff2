{
 "cells": [
  {
   "cell_type": "markdown",
   "id": "dd1e287c",
   "metadata": {},
   "source": [
    "# key notes \n",
    "\n",
    "## data sources:\n",
    "1. reddit scraping while possible is probably too noisey to be useful\n",
    "\n",
    "2. yahoo scraping can be done by scraping the wayback machine recursively use the article tag with role=article (the rss vertion of it dosent have enough saves in waybckmachine)\n",
    "\n",
    "3. wikipedia scraping is very clean data but unfortunatly there isnt alot of changes so we are again data fin"
   ]
  },
  {
   "cell_type": "markdown",
   "id": "5fbff31a",
   "metadata": {},
   "source": [
    "## train strategy \n",
    "###### 1. seperate data into diffrent segments based on how frequantly it gets updated \n",
    "2. make a nested training loop that updates based on that frequncy. (this helps preventing needles recalculations)\n",
    "3. use an lstm on the price data that is prompted with extra information from the other segments"
   ]
  },
  {
   "cell_type": "code",
   "execution_count": 24,
   "id": "c2af75b6",
   "metadata": {},
   "outputs": [],
   "source": [
    "import tensorflow as tf\n",
    "import numpy as np\n",
    "\n",
    "\"\"\"\n",
    "import scrapy\n",
    "from scrapy.crawler import CrawlerProcess\n",
    "from scrapy.settings import Settings\n",
    "from scrapy_wayback_machine import WaybackMachineMiddleware\n",
    "\"\"\"\n",
    "import concurrent\n",
    "import datetime"
   ]
  },
  {
   "cell_type": "code",
   "execution_count": 25,
   "id": "e7a9fe32",
   "metadata": {},
   "outputs": [
    {
     "name": "stdout",
     "output_type": "stream",
     "text": [
      "len=6\n",
      "tf.Tensor([0 1 2 3], shape=(4,), dtype=int64)\n",
      "tf.Tensor([4 5 6 7], shape=(4,), dtype=int64)\n",
      "tf.Tensor([ 8  9 10 11], shape=(4,), dtype=int64)\n",
      "tf.Tensor([12 13 14 15], shape=(4,), dtype=int64)\n",
      "tf.Tensor([16 17 18 19], shape=(4,), dtype=int64)\n",
      "tf.Tensor([20 21], shape=(2,), dtype=int64)\n",
      "len=4\n",
      "tf.Tensor([1 2 3 4], shape=(4,), dtype=int64)\n",
      "tf.Tensor([5 6 7 8], shape=(4,), dtype=int64)\n",
      "tf.Tensor([ 9 10 11 12], shape=(4,), dtype=int64)\n",
      "tf.Tensor([13], shape=(1,), dtype=int64)\n",
      "len=5\n",
      "tf.Tensor([2 3 4 5], shape=(4,), dtype=int64)\n",
      "tf.Tensor([6 7 8 9], shape=(4,), dtype=int64)\n",
      "tf.Tensor([10 11 12 13], shape=(4,), dtype=int64)\n",
      "tf.Tensor([14 15 16 17], shape=(4,), dtype=int64)\n",
      "tf.Tensor([18 19 20], shape=(3,), dtype=int64)\n"
     ]
    }
   ],
   "source": [
    "#toy unbatched exmple\n",
    "tf.config.run_functions_eagerly(False)\n",
    "N=3\n",
    "big=tf.data.Dataset.range(N)\n",
    "r=tf.data.Dataset.random().map(lambda x: 4+x%20).take(N)\n",
    "small=tf.data.Dataset.zip((big,r))\n",
    "small=small.map(lambda x,r:tf.range(x,x+r))\n",
    "small=small.map(lambda x:tf.data.Dataset.from_tensor_slices(x).batch(4)).prefetch(tf.data.AUTOTUNE)\n",
    "for elem in small:\n",
    "    #big loop updates HERE\n",
    "    print(f\"len={len(elem)}\")\n",
    "    for x in elem:\n",
    "        #small loop updates HERE \n",
    "        print(x)\n",
    "tf.config.run_functions_eagerly(True)"
   ]
  },
  {
   "cell_type": "code",
   "execution_count": 26,
   "id": "3331a245",
   "metadata": {},
   "outputs": [
    {
     "data": {
      "text/plain": [
       "<tf.Tensor: shape=(), dtype=int64, numpy=418894321>"
      ]
     },
     "execution_count": 26,
     "metadata": {},
     "output_type": "execute_result"
    }
   ],
   "source": [
    "tf.data.Dataset.random().take(1).get_single_element()"
   ]
  },
  {
   "cell_type": "code",
   "execution_count": 27,
   "id": "b517aee3",
   "metadata": {},
   "outputs": [],
   "source": [
    "import requests as req\n",
    "import json \n",
    "import bs4\n",
    "import pandas as pd\n",
    "import os"
   ]
  },
  {
   "cell_type": "code",
   "execution_count": 28,
   "id": "10742fd0",
   "metadata": {},
   "outputs": [],
   "source": [
    "test_url=\"https://finance.yahoo.com/quote/VZ/\"\n",
    "cdx_url_template = ('http://web.archive.org/cdx/search/cdx?url={url}'\n",
    "                    '&output=json')#&fl=timestamp,original,statuscode,digest') \n",
    "\n",
    "#test_cdx=cdx_url_template.format(url=test_url)"
   ]
  },
  {
   "cell_type": "code",
   "execution_count": 29,
   "id": "d4396e5e",
   "metadata": {},
   "outputs": [
    {
     "data": {
      "text/html": [
       "<div>\n",
       "<style scoped>\n",
       "    .dataframe tbody tr th:only-of-type {\n",
       "        vertical-align: middle;\n",
       "    }\n",
       "\n",
       "    .dataframe tbody tr th {\n",
       "        vertical-align: top;\n",
       "    }\n",
       "\n",
       "    .dataframe thead th {\n",
       "        text-align: right;\n",
       "    }\n",
       "</style>\n",
       "<table border=\"1\" class=\"dataframe\">\n",
       "  <thead>\n",
       "    <tr style=\"text-align: right;\">\n",
       "      <th></th>\n",
       "      <th>urlkey</th>\n",
       "      <th>timestamp</th>\n",
       "      <th>original</th>\n",
       "      <th>mimetype</th>\n",
       "      <th>statuscode</th>\n",
       "      <th>digest</th>\n",
       "      <th>length</th>\n",
       "    </tr>\n",
       "  </thead>\n",
       "  <tbody>\n",
       "    <tr>\n",
       "      <th>0</th>\n",
       "      <td>com,yahoo,finance)/quote/vz</td>\n",
       "      <td>20160516160413</td>\n",
       "      <td>http://finance.yahoo.com:80/quote/VZ</td>\n",
       "      <td>text/html</td>\n",
       "      <td>301</td>\n",
       "      <td>KAV73IUWIQTFXK7YQBGXBLIOEZ6QGEAN</td>\n",
       "      <td>716</td>\n",
       "    </tr>\n",
       "    <tr>\n",
       "      <th>1</th>\n",
       "      <td>com,yahoo,finance)/quote/vz</td>\n",
       "      <td>20160516160413</td>\n",
       "      <td>http://finance.yahoo.com:80/quote/VZ/</td>\n",
       "      <td>text/html</td>\n",
       "      <td>404</td>\n",
       "      <td>GJ32S3AQF57PJWQTMANB7P5FOJ2VSC4S</td>\n",
       "      <td>996</td>\n",
       "    </tr>\n",
       "    <tr>\n",
       "      <th>2</th>\n",
       "      <td>com,yahoo,finance)/quote/vz</td>\n",
       "      <td>20160517182416</td>\n",
       "      <td>http://finance.yahoo.com:80/quote/VZ</td>\n",
       "      <td>text/html</td>\n",
       "      <td>301</td>\n",
       "      <td>L5ZQ2GB52XBRPQNDA7DXTKV7LBS22CJI</td>\n",
       "      <td>725</td>\n",
       "    </tr>\n",
       "    <tr>\n",
       "      <th>3</th>\n",
       "      <td>com,yahoo,finance)/quote/vz</td>\n",
       "      <td>20160517182416</td>\n",
       "      <td>http://finance.yahoo.com:80/quote/VZ/</td>\n",
       "      <td>text/html</td>\n",
       "      <td>404</td>\n",
       "      <td>GJ32S3AQF57PJWQTMANB7P5FOJ2VSC4S</td>\n",
       "      <td>1001</td>\n",
       "    </tr>\n",
       "    <tr>\n",
       "      <th>4</th>\n",
       "      <td>com,yahoo,finance)/quote/vz</td>\n",
       "      <td>20160517190450</td>\n",
       "      <td>http://finance.yahoo.com:80/quote/vz/</td>\n",
       "      <td>text/html</td>\n",
       "      <td>404</td>\n",
       "      <td>GG7JELIWXCGDX2M7ABDOZX5SKZLEBPCJ</td>\n",
       "      <td>922</td>\n",
       "    </tr>\n",
       "    <tr>\n",
       "      <th>...</th>\n",
       "      <td>...</td>\n",
       "      <td>...</td>\n",
       "      <td>...</td>\n",
       "      <td>...</td>\n",
       "      <td>...</td>\n",
       "      <td>...</td>\n",
       "      <td>...</td>\n",
       "    </tr>\n",
       "    <tr>\n",
       "      <th>845</th>\n",
       "      <td>com,yahoo,finance)/quote/vz</td>\n",
       "      <td>20221010165659</td>\n",
       "      <td>https://finance.yahoo.com/quote/VZ/</td>\n",
       "      <td>text/html</td>\n",
       "      <td>200</td>\n",
       "      <td>ZV4FFKK24ZJUYI7B7LURWXQ2A4F3OHAW</td>\n",
       "      <td>200953</td>\n",
       "    </tr>\n",
       "    <tr>\n",
       "      <th>846</th>\n",
       "      <td>com,yahoo,finance)/quote/vz</td>\n",
       "      <td>20221010165701</td>\n",
       "      <td>https://finance.yahoo.com/quote/VZ</td>\n",
       "      <td>text/html</td>\n",
       "      <td>200</td>\n",
       "      <td>MN4GJSQVHVWYNQ5VQ7ZL4YPMJIRMRQVZ</td>\n",
       "      <td>200470</td>\n",
       "    </tr>\n",
       "    <tr>\n",
       "      <th>847</th>\n",
       "      <td>com,yahoo,finance)/quote/vz</td>\n",
       "      <td>20221017211044</td>\n",
       "      <td>https://finance.yahoo.com/quote/VZ</td>\n",
       "      <td>text/html</td>\n",
       "      <td>200</td>\n",
       "      <td>QVX43XJQH2BEGRFVAYXLOPSG2KNH2XU2</td>\n",
       "      <td>202190</td>\n",
       "    </tr>\n",
       "    <tr>\n",
       "      <th>848</th>\n",
       "      <td>com,yahoo,finance)/quote/vz</td>\n",
       "      <td>20221018064802</td>\n",
       "      <td>http://finance.yahoo.com/quote/VZ/</td>\n",
       "      <td>text/html</td>\n",
       "      <td>200</td>\n",
       "      <td>OHES44XCBETVTDK7WEDZD4BVFSOC435P</td>\n",
       "      <td>166431</td>\n",
       "    </tr>\n",
       "    <tr>\n",
       "      <th>849</th>\n",
       "      <td>com,yahoo,finance)/quote/vz</td>\n",
       "      <td>20221018064915</td>\n",
       "      <td>http://finance.yahoo.com/quote/VZ</td>\n",
       "      <td>text/html</td>\n",
       "      <td>200</td>\n",
       "      <td>WMQXFTA2KE7JTXI2VVC3LZMUQV6TBKYL</td>\n",
       "      <td>168213</td>\n",
       "    </tr>\n",
       "  </tbody>\n",
       "</table>\n",
       "<p>850 rows × 7 columns</p>\n",
       "</div>"
      ],
      "text/plain": [
       "                          urlkey       timestamp  \\\n",
       "0    com,yahoo,finance)/quote/vz  20160516160413   \n",
       "1    com,yahoo,finance)/quote/vz  20160516160413   \n",
       "2    com,yahoo,finance)/quote/vz  20160517182416   \n",
       "3    com,yahoo,finance)/quote/vz  20160517182416   \n",
       "4    com,yahoo,finance)/quote/vz  20160517190450   \n",
       "..                           ...             ...   \n",
       "845  com,yahoo,finance)/quote/vz  20221010165659   \n",
       "846  com,yahoo,finance)/quote/vz  20221010165701   \n",
       "847  com,yahoo,finance)/quote/vz  20221017211044   \n",
       "848  com,yahoo,finance)/quote/vz  20221018064802   \n",
       "849  com,yahoo,finance)/quote/vz  20221018064915   \n",
       "\n",
       "                                  original   mimetype statuscode  \\\n",
       "0     http://finance.yahoo.com:80/quote/VZ  text/html        301   \n",
       "1    http://finance.yahoo.com:80/quote/VZ/  text/html        404   \n",
       "2     http://finance.yahoo.com:80/quote/VZ  text/html        301   \n",
       "3    http://finance.yahoo.com:80/quote/VZ/  text/html        404   \n",
       "4    http://finance.yahoo.com:80/quote/vz/  text/html        404   \n",
       "..                                     ...        ...        ...   \n",
       "845    https://finance.yahoo.com/quote/VZ/  text/html        200   \n",
       "846     https://finance.yahoo.com/quote/VZ  text/html        200   \n",
       "847     https://finance.yahoo.com/quote/VZ  text/html        200   \n",
       "848     http://finance.yahoo.com/quote/VZ/  text/html        200   \n",
       "849      http://finance.yahoo.com/quote/VZ  text/html        200   \n",
       "\n",
       "                               digest  length  \n",
       "0    KAV73IUWIQTFXK7YQBGXBLIOEZ6QGEAN     716  \n",
       "1    GJ32S3AQF57PJWQTMANB7P5FOJ2VSC4S     996  \n",
       "2    L5ZQ2GB52XBRPQNDA7DXTKV7LBS22CJI     725  \n",
       "3    GJ32S3AQF57PJWQTMANB7P5FOJ2VSC4S    1001  \n",
       "4    GG7JELIWXCGDX2M7ABDOZX5SKZLEBPCJ     922  \n",
       "..                                ...     ...  \n",
       "845  ZV4FFKK24ZJUYI7B7LURWXQ2A4F3OHAW  200953  \n",
       "846  MN4GJSQVHVWYNQ5VQ7ZL4YPMJIRMRQVZ  200470  \n",
       "847  QVX43XJQH2BEGRFVAYXLOPSG2KNH2XU2  202190  \n",
       "848  OHES44XCBETVTDK7WEDZD4BVFSOC435P  166431  \n",
       "849  WMQXFTA2KE7JTXI2VVC3LZMUQV6TBKYL  168213  \n",
       "\n",
       "[850 rows x 7 columns]"
      ]
     },
     "execution_count": 29,
     "metadata": {},
     "output_type": "execute_result"
    }
   ],
   "source": [
    "def get_time_df(url):\n",
    "    with req.get(cdx_url_template.format(url=url)) as r:\n",
    "        j=r.content\n",
    "        j=json.loads(j)\n",
    "    return pd.DataFrame(j[1:],columns=j[0])#.set_index('timestamp')\n",
    "time_df=get_time_df(test_url)\n",
    "#int.from_bytes(bytes(time_df[\"digest\"][0],\"ascii\") ,'little')\n",
    "time_df"
   ]
  },
  {
   "cell_type": "code",
   "execution_count": 30,
   "id": "cd87683a",
   "metadata": {},
   "outputs": [
    {
     "data": {
      "text/plain": [
       "<Response [404]>"
      ]
     },
     "execution_count": 30,
     "metadata": {},
     "output_type": "execute_result"
    }
   ],
   "source": [
    "wayback=\"https://web.archive.org/web/\"\n",
    "def get_wayback_url(row):\n",
    "    return wayback+row[\"timestamp\"]+\"/\"+row[\"original\"]\n",
    "req.get(get_wayback_url(time_df.iloc[0]))"
   ]
  },
  {
   "cell_type": "code",
   "execution_count": 31,
   "id": "c578ecda",
   "metadata": {},
   "outputs": [
    {
     "data": {
      "text/plain": [
       "200    763\n",
       "Name: statuscode, dtype: int64"
      ]
     },
     "execution_count": 31,
     "metadata": {},
     "output_type": "execute_result"
    }
   ],
   "source": [
    "def valid_code(code):\n",
    "    if(code!=\"-\" and 200<=int(code)<300):\n",
    "        return True\n",
    "    return False\n",
    "valid_time=time_df[time_df[\"statuscode\"].map(valid_code)]\n",
    "valid_time[\"statuscode\"].value_counts()"
   ]
  },
  {
   "cell_type": "code",
   "execution_count": 32,
   "id": "088b8ebc",
   "metadata": {},
   "outputs": [
    {
     "data": {
      "text/plain": [
       "1    159\n",
       "Name: timestamp, dtype: int64"
      ]
     },
     "execution_count": 32,
     "metadata": {},
     "output_type": "execute_result"
    }
   ],
   "source": [
    "data=valid_time[valid_time[\"timestamp\"].map(lambda x: int(x[0:6])>=201910)]\n",
    "data[\"timestamp\"].value_counts().value_counts()"
   ]
  },
  {
   "cell_type": "code",
   "execution_count": 33,
   "id": "73a89793",
   "metadata": {},
   "outputs": [
    {
     "name": "stdout",
     "output_type": "stream",
     "text": [
      "https://web.archive.org/web/20191012054117/https://finance.yahoo.com/quote/VZ\n",
      "True\n"
     ]
    }
   ],
   "source": [
    "#0\n",
    "url=get_wayback_url(data.iloc[0])\n",
    "print(url)\n",
    "with req.get(url) as r:\n",
    "    b=bs4.BeautifulSoup(r.content)\n",
    "    print(r.url==url)"
   ]
  },
  {
   "cell_type": "code",
   "execution_count": 34,
   "id": "52fa8fb7",
   "metadata": {},
   "outputs": [
    {
     "name": "stdout",
     "output_type": "stream",
     "text": [
      "1  Yahoo Finance Video5G could be 'next great secular growth story'Amanda Agati, chief investment strategist at PNC, gives Yahoo Finance insight on why investors could benefit from avoiding absolute-dividend payers and instead focus on dividend growers, such as tech and health care. Agati explains that specialty real estate investment trusts (REITs) are also worth watching because of their exposure to 5G, which she says is the \"next great secular growth story.\":\n",
      "/web/20191012054117/https://finance.yahoo.com/video/5g-could-next-great-secular-143305106.html+\n",
      "\n",
      "2  Yahoo Finance VideoVerizon Media CEO Guru Gowrappan on the push to 5GTechCrunch’s Disrupt Conference kicked off in San Francisco. Yahoo Finance’s Melody Hahm caught up with Verizon Media CEO Guru Gowrappan to discuss the road ahead for the company and the push to 5G.:\n",
      "/web/20191012054117/https://finance.yahoo.com/video/verizon-media-ceo-guru-gowrappan-171929745.html+\n",
      "\n",
      "3  Benzinga5G Will Revolutionize Every Industry ... But Only If It Has Blockchain SecurityBy Tony Sagami My brother, sister and I attended the University of Washington. This made me a lifetime UW football fan; I'm still a season-ticket holder.  I’ve seen my team win ... and I’ve seen them lose. ...:\n",
      "/web/20191012054117/https://finance.yahoo.com/news/5g-revolutionize-every-industry-only-182514495.html+\n",
      "\n",
      "4  PR NewswireBUILT BY GIRLS, Speck And Verizon Unveil Winning Designs From Make My Case CompetitionSAN MATEO, Calif., Oct. 11, 2019 /PRNewswire/ -- Today on International Day of the Girl, BUILT BY GIRLS, Speck and Verizon announced the two winning designs from the first-ever Make My Case competition.  The two winning case designers, Dyllen Nellis and Shannon Li, were selected out of a pool of more than 150 entries.  \"Through this competition, we wanted to celebrate the power of what is possible when girls are given the tools and opportunities to achieve their dreams and claim their place in society,\" said BUILT BY GIRLS Executive Director, Tiana Davis Kara.:\n",
      "/web/20191012054117/https://finance.yahoo.com/news/built-girls-speck-verizon-unveil-160000329.html+\n",
      "\n",
      "5  BenzingaTrader Toolkit: Cash FlowWith more and more trading platforms and the growing allure of low-to-no-fee brokerages, new traders are confronted with a deluge of options when it comes to trading and investing.  Cash flow is commonly broken into three separate segments: operating cash flow, investing cash flow and financing cash flow.:\n",
      "/web/20191012054117/https://finance.yahoo.com/news/trader-toolkit-cash-flow-131805890.html+\n",
      "\n",
      "6  TheStreet.comVerizon Is Ready for an Upside Breakout, Add to LongsIn this daily bar chart of VZ, below, we can see a long and potentially very powerful ascending or rising triangle pattern.  The On-Balance-Volume (OBV) line has turned up from the middle of August to confirm and support the bullish case.  In this weekly bar chart of VZ, below, we can see the large triangle pattern.:\n",
      "/web/20191012054117/https://finance.yahoo.com/m/400a414c-f65c-34c1-802d-2853984724d6/verizon-is-ready-for-an.html+\n",
      "\n",
      "7  BloombergAT&T, Verizon Race to Shore Up Service Threatened by PG&E Outage(Bloomberg) -- AT&T Inc. and Verizon Communications Inc. are rolling out generators, backup batteries and technicians to keep their wireless networks operating in parts of California where PG&E Corp. has intentionally shut down power to prevent wildfires.As many as 750,000 homes and businesses had power cut in what is the largest intentional blackout ever undertaken for wildfire prevention in California. That, in turn, is threatening to access to something almost as vital as electricity: wireless service.“We are aware that service for some customers may be affected by this event and are working as quickly as possible to deploy additional generators and recovery equipment,” Jim Greer, an AT&T spokesman, said Thursday.PG&E was forced into bankruptcy in the wake of wildfires caused by its equipment. The company is using large-scale power shutdowns now to prevent another deadly disaster.Blackouts in Oakland, San Jose and elsewhere threaten to be an economic drag, as stores close and companies are forced to buy generators to keep businesses open.Representatives from the major wireless carriers, including T-Mobile US Inc. and Sprint Corp., are working with the power companies and emergency services to keep their networks up. Of course, even with networks operating, customers in stricken areas will have trouble keeping their phones charged.“Our focus has been on ensuring our network remains up and reliable for residents, visitors and first responders in light of the commercial power outages,” said Karen Schulz, a Verizon spokeswoman.AT&T said it won’t charge subscribers in the affected areas if they exceed their data, calling or text limit, according to notifications sent to customers. The waiver expires Sunday.To contact the reporter on this story: Scott Moritz in New York at smoritz6@bloomberg.netTo contact the editors responsible for this story: Nick Turner at nturner7@bloomberg.net, Rob GolumFor more articles like this, please visit us at bloomberg.com©2019 Bloomberg L.P.:\n",
      "/web/20191012054117/https://finance.yahoo.com/news/t-verizon-race-shore-threatened-164706367.html+\n",
      "\n",
      "8  Yahoo FinanceVerizon CEO: 5G will transform the worldVerizon CEO Hans Vestberg says that 5G will be a transformational technology for the world.:\n",
      "/web/20191012054117/https://finance.yahoo.com/news/verizon-ceo-5g-will-transform-the-world-154708054.html+\n",
      "\n",
      "9  TheStreet.com[video]Buy Verizon for Its Content, Services and Generous DividendBuy Verizon between its semiannual value level at $58.68 and its monthly pivot at $69.24. The stock is fundamentally cheap with a P/E ratio of 12.63 and a dividend yield of 4.00%,:\n",
      "/web/20191012054117/https://finance.yahoo.com/m/327305ff-8f87-3d50-a313-75a2feaf5094/%5Bvideo%5Dbuy-verizon-for-its.html+\n",
      "\n",
      "10  BloombergCheap Euro Financing Poses Major Headache for Taiwan’s Funds(Bloomberg) -- Enticingly low borrowing costs in euros might be great for companies looking to refinance debt. But they’re about to become a major headache half-way across the globe from Europe: in Taiwan.Taiwanese insurance companies binged on more than $180 billion of Formosa bonds -- notes listed in Taiwan but denominated mainly in dollars since regulators exempted them from restrictions on foreign investments. The securities helped the funds get yields unavailable in the local market.But as a wave of these bonds approach the dates when the issuers can call them, the risk is that the Taiwanese investors will be handed back their cash and forced to hunt for alternative securities. That’s because of attractive rates for borrowers in Europe.“Formosa is set for a redemption wave,” said Ruslan Bikbov, a rates strategist at Citigroup Inc. “If rates stay where they are or go lower, as we expect, then calls are pretty much automatic.”One recent example was Verizon Communications Inc. The New York-based telecoms giant last month called a $2.06 billion bond -- one of the largest issued in the Formosa market. The security due in 2046 had a coupon of 4.2%. Verizon then sold debt in euros and British pounds at cheaper cost, even if swapped back into dollars, according to data compiled by Bloomberg.Companies including AT&T Inc, Comcast Corp., Apple Inc. and Pfizer Inc. are facing similar decisions. Some $8 billion of Formosa bonds have callable dates by year-end. Another $22.4 billion reach their next call date in the first quarter of 2020.“Some Formosa bonds we bought were already called this year, and we expect the trend will last until at least 1Q next year,” said Hung-Sheng Chen, chief financial officer at Taipei-based Mercuries Life Insurance Co.Mercuries Life will look at options including Taiwanese dollar-denominated exchange-traded funds that track foreign assets, Chen said.Some issuers may decide not to call their Formosa bonds, to maintain their relationship with Taiwanese investors. But this if history is any guide, that’s unlikely to stem the tide. Borrowers redeemed almost $11 billion of Formosa bonds back in 2016, when U.S. dollar rates plummeted.“Will we have more bonds called? The answer is yes,” said Rick Chan, a portfolio manager at Pacific Investment Management Co. LLC, which oversees $1.84 trillion. “If I am one of those corporates who issued one of these bonds, my job is to do what is most economical for my company, which is to call these bonds.”(Adds name of issuer in sixth paragraph.)To contact the reporters on this story: Miaojung Lin in Taipei at mlin179@bloomberg.net;Tasos Vossos in London at tvossos@bloomberg.netTo contact the editors responsible for this story: Vivianne Rodrigues at vrodrigues3@bloomberg.net, Christopher Anstey, Hannah BenjaminFor more articles like this, please visit us at bloomberg.com©2019 Bloomberg L.P.:\n",
      "/web/20191012054117/https://finance.yahoo.com/news/cheap-euro-financing-poses-major-223001637.html+\n",
      "\n",
      "11  Insider MonkeyWere Hedge Funds Right About Piling Into Verizon Communications Inc. (VZ)?Hedge fund managers like David Einhorn, Bill Ackman, or Carl Icahn became billionaires through reaping large profits for their investors, which is why piggybacking their stock picks may provide us with significant returns as well. Many hedge funds, like Paul Singer’s Elliott Management, are pretty secretive, but we can still get some insights by analyzing […]:\n",
      "/web/20191012054117/https://finance.yahoo.com/news/were-hedge-funds-piling-verizon-203554375.html+\n",
      "\n",
      "12  BenzingaStreaming Wars, Social Media And 5G: Comms Sector Earnings PreviewAs with pretty much all things in the investment arena, there are caveats and big “ifs.” For comms, one of them is consumer spending—with a dose of consumer sentiment mixed in.  Because some of the components of the Communications Services sector rely heavily on users to keep their wallets relatively wide open as former traditional telecom companies transform into communications juggernauts.  Coupled with a handful of former Consumer Discretionary and Technology components, the Communications Services sector also could have a pulse on the economy overall.:\n",
      "/web/20191012054117/https://finance.yahoo.com/news/streaming-wars-social-media-5g-162854684.html+\n",
      "\n",
      "13  ZacksVerizon Communications (VZ) Gains As Market Dips: What You Should KnowVerizon Communications (VZ) closed at $60.25 in the latest trading session, marking a +0.58% move from the prior day.:\n",
      "/web/20191012054117/https://finance.yahoo.com/news/verizon-communications-vz-gains-market-214509967.html+\n",
      "\n",
      "14  Yahoo Finance5G is mostly hype so far5G is touted as a life-altering technology, but it's still far from it.:\n",
      "/web/20191012054117/https://finance.yahoo.com/news/5g-testing-hype-174237826.html+\n",
      "\n",
      "15  TipRanksWall Street Loves These “Strong Buy” Dividend StocksStock go up, investor happy. Stock go down, investor... sad?Probably. In fact, we'd go so far as to say that's probably the ordinary reaction an investor has to a decline in the share price of a stock he or she owns -- but not all the time.You see, if the stock is question is a dividend stock, even a decline in stock price can be offset by the value of the dividend you're being paid to own it. What's more, because a stock's dividend yield is calculated by dividing the dividend amount by the stock price, the lower the stock price falls, the bigger the dividend yield becomes -- making the stock increasingly attractive to other dividend investors, and providing a backstop that can prevent the stock falling further!So how do you find great dividend stocks, popular on Wall Street, and attractive to dividend investors?Using the Stock Screener at TipRanks, you can screen for stocks rated \"strong buy\" by Wall Street analysts, and screen, too, for stocks paying better-than-average dividend yields. Combine these two attributes, and voila! You've got a great dividend stock candidate. Here are three of them:Sanofi (SNY) One of Europe's largest drugmakers, Paris-based Sanofi boasts a market capitalization north of $112 billion, more than $40 billion in annual sales, and net profits approaching $4 billion. Sanofi stock's a great cash generator as well, throwing off nearly $6.3 billion in cash over the last 12 months, enabling it to pay a market-beating dividend yield of 3.9%.Just recently, Morgan Stanley analyst Mark Purcell upgraded Sanofi shares to \"overweight,\" calling the stock a \"defensive\" play in an uncertain market. According to Purcell, the stock is \"largely de-risked\" -- indeed, the analyst says Sanofi has the lowest risk growth outlook of any European Big Pharma stock, due to a lack of big drugs losing patent protection in the near future (the dreaded \"patent cliff\"), and a pipeline of new drugs in late-stage clinical trials that could soon come to market.Whereas the consensus on Wall Street is that Sanofi stock is worth $52 per share, Purcell thinks Sanofi could go all the way to ... $98 a share! (To watch Purcell's track record, click here)\"We argue that new CEO Paul Hudson inherits significant optionality to unlock shareholder value alongside the recent CFO and CSO appointments. The management team can draw on their shared experience from the strategic transformations of AstraZeneca and Novartis, the new chapter of innovation at Roche and the cost discipline of Peugeot. The evolution of the GSK equity story, with which Sanofi has much in common, albeit with greater balance sheet flexibility and lower patent risk, offers a further yardstick for investors, we believe. We explore potential strategic options that could in theory help to close the 15% relative P/E multiple discount,\" Purcell said.Sanofi stock hasn't moved much over the past year, up less than 4%. Regardless, Wall Street loves Sanofi stock, rating it \"strong buy\" on average, and with a $52 price target implying 14.5% upside from today's prices. Factor in the dividend, and you're pushing 18.5% potential profit. (See Sanofi stock analysis on TipRanks)Merck (MRK) But you needn't travel all the way to Europe to find an attractive drug stock paying a big dividend. Right here at home, Kenilworth, New Jersey-based Merck & Co. pays its shareholders a very respectable 2.7% dividend yield. (The average stock on the S&P 500 is only paying 2%).Recently, Merck presented more positive data at ESMO supporting the use of Keytruda + chemo to treat neoadjuvant/adjuvant TNBC. These data, along with other data presented at ESMO, like BMY's (NC) Merck-227 data and the Lynparza ovarian data, support MRK's leadership in oncology.Morgan Stanley analyst David Risinger commented, \"KN-522 demonstrated an impressive pathologic complete response (pCR), improving on results from its earlier exploratory KN-173 trial. On another key efficacy metric, event free survival (EFS), the trend to 18mo looks quite favorable but the trial’s discussant urged a measure of caution in over-interpreting the findings, saying data were too early still and need to mature. The reason for caution is that discontinuation rates were ~2x for Keytruda vs placebo (PBO), raising the specter that longer-term survival curves may look different than shown at the first, early look, if too many patients are stopping therapy prematurely. The discussant also reminded that certain immune-related adverse events would likely be permanent, implying a more definitive calculation of risk:benefit is warranted, but this is not yet possible from the preliminary data set.\"As a result, Risinger reiterated an Overweight rating on MRK stock with $90 price target, which implies nearly 7% upside from current levels. (Watch Risinger's track record, click here)Overall, the consensus targets on the Street see Merck shares rising as high as $100 per share over the next 12 months, 18% above current levels. (See Merck stock analysis on TipRanks)Verizon (VZ) Switching gears now from the somewhat esoteric world of biotech to a company we're all very familiar with, Verizon is our final stock to look at in today's column -- and for good reason.Investors have long viewed the telecom industry as a happy hunting ground for stocks paying robust dividends, and Verizon, which pays 4.2%, is no exception. In fact, Verizon has raised its dividend for 13 years in a row, with its latest dividend hiking coming just last month. At 4.2%, Verizon's dividend is now more than twice the market average.One analyst who likes Verizon more than most is Oppenheimer's Timothy Horan, who in August upgraded Verizon shares to \"outperform\" with a $70 price target implying better than 16% upside (and better than 20% with the dividend added in). Horan believes that Verizon will be an early beneficiary of the telecommunications industry's move to 5G wireless technology. And anticipating customer defections from T-Mobile and Sprint once those two companies merge, Horan predicts that Verizon will also benefit from customer \"churn\" at this wireless rival. (To watch Horan's track record, click here)Overall, Wall Street loves the stock, giving Verizon \"strong buy\" ratings by and large. Granted, with a consensus price target of \"only\" $65, most analysts don't see a huge amount of upside in the stock -- only about 9%. But if you add in the dividend yield, the potential profit on this one exceeds 13%, and maybe even more.Topping it all off, with a P/E of less than 16, Verizon's not just the biggest dividend payer on today's list of highly-rated dividend stocks -- it's also the cheapest. (See Verizon stock analysis on TipRanks):\n",
      "/web/20191012054117/https://finance.yahoo.com/news/wall-street-loves-strong-buy-142613096.html+\n",
      "\n",
      "16  ZacksKeysight Helps PCTEST to Validate 5G Design & Test SolutionsKeysight's (KEYS) sustained focus on launching solutions for growth markets like 5G, IoT and high-speed datacenters augurs well for the top line.:\n",
      "/web/20191012054117/https://finance.yahoo.com/news/keysight-helps-pctest-validate-5g-140802369.html+\n",
      "\n",
      "17  ZacksThe Zacks Analyst Blog Highlights: Verizon Communications, PepsiCo, Biogen, Bank of New York ??? Mellon and CernerThe Zacks Analyst Blog Highlights: Verizon Communications, PepsiCo, Biogen, Bank of New York ??? Mellon and Cerner:\n",
      "/web/20191012054117/https://finance.yahoo.com/news/zacks-analyst-blog-highlights-verizon-140302726.html+\n",
      "\n",
      "18  GlobeNewswireVerizon and NEC just made fiber sensing a whole lot easierIn a recent proof-of-concept field trial, Verizon and NEC were able to use network infrastructure with existing fiber optic cables already laid in the ground as distributed optical sensors to collect information on city traffic patterns, road conditions, road capacity, and vehicle classification information.  The trial used new optical sensor technology developed by NEC with software underpinned by artificial intelligence (AI) for intelligent traffic monitoring including the measurement of vehicle density, direction, speed, acceleration, deceleration, and more.  Historically, companies have had to lay purpose-built fiber very shallow in the ground with fiber grating at pre-determined intervals to gather and synthesize this type of information.:\n",
      "/web/20191012054117/https://finance.yahoo.com/news/verizon-nec-just-made-fiber-140000871.html+\n",
      "\n",
      "19  ZacksTop Stock Reports for Verizon, PepsiCo & BiogenTop Stock Reports for Verizon, PepsiCo & Biogen:\n",
      "/web/20191012054117/https://finance.yahoo.com/news/top-stock-reports-verizon-pepsico-185106327.html+\n",
      "\n",
      "20  BloombergT-Mobile-Sprint Merger Gets Majority Support at FCC(Bloomberg) -- T-Mobile US Inc.’s proposed merger with Sprint Corp. has received a third “yes” vote at the U.S. Federal Communications Commission, moving the deal toward agency approval in coming days, according to two people familiar with the matter.All three Republicans on the five-member agency have voted for the deal, setting in motion procedures that would require agency action by Oct. 9, or Oct. 16 if an extension is requested by a commissioner, the people said. Neither agency Democrat has cast a vote, and both have called for delay.The third “yes” came from Commissioner Brendan Carr, according to the people, who spoke on condition they not be identified because the voting is conducted behind closed doors. Carr in May issued a formal statement supporting the deal.Carr’s office on Friday didn’t immediately respond to an email or phone call seeking comment. Tina Pelkey, a spokeswoman for the FCC, declined to comment. Sprint declined to comment.Sprint rose 14 cents, or 2.4%, to $6.10 and T-Mobile was up 93 cents, or 1.2%, to $77.95 at 11:54 a.m. New York time.T-Mobile and Sprint have agreed not to close their deal until after a verdict in a multistate lawsuit, where trial is set for early December. The states say the combination of national wireless carriers will decrease competition and raise prices. The deal’s backers say it will quickly bring advanced 5G networks and create a stronger rival to leaders AT&T Inc. and Verizon Communications Inc.Groups including Consumer Reports, the Communications Workers of America union and the Rural Wireless Association in a filing Friday asked the FCC to pause its review. They said the agency needs to fully investigate its accusation that Sprint improperly accepted subsidy payments.The FCC on Sept. 24 said Sprint had claimed payments for 885,000 subscribers, even though those people weren’t using the system. Pai told the FCC’s enforcement bureau determine the extent of the problem and propose a remedy.The claim may slow but won’t threaten FCC approval of the merger, Matthew Schettenhelm, a Bloomberg Intelligence analyst, said in a note.(Updates with call to pause consideration in seventh paragraph.)\\--With assistance from Scott Moritz.To contact the reporter on this story: Todd Shields in Washington at tshields3@bloomberg.netTo contact the editors responsible for this story: Jon Morgan at jmorgan97@bloomberg.net, Justin BlumFor more articles like this, please visit us at bloomberg.com©2019 Bloomberg L.P.:\n",
      "/web/20191012054117/https://finance.yahoo.com/news/t-mobile-sprint-merger-majority-145340050.html+\n",
      "\n",
      "21  Investing.comNewsBreak: T-Mobile-Sprint Merger Wins Majority Support at FCC - ReportInvesting.com - T-Mobile's bid to acquire rival Sprint has won a third \"yes\" vote at the Federal Communications Commission, moving the proposal a step closer to closing, according to Bloomberg News.:\n",
      "/web/20191012054117/https://finance.yahoo.com/news/newsbreak-t-mobile-sprint-merger-131100420.html+\n",
      "\n",
      "22  Simply Wall St.Do These 3 Checks Before Buying Verizon Communications Inc. (NYSE:VZ) For Its Upcoming DividendIt looks like Verizon Communications Inc. (NYSE:VZ) is about to go ex-dividend in the next 4 days. If you purchase the...:\n",
      "/web/20191012054117/https://finance.yahoo.com/news/3-checks-buying-verizon-communications-105139956.html+\n",
      "\n",
      "23  Simply Wall St.Why Verizon Communications Inc. (NYSE:VZ) Looks Like A Quality CompanyOne of the best investments we can make is in our own knowledge and skill set. With that in mind, this article will...:\n",
      "/web/20191012054117/https://finance.yahoo.com/news/why-verizon-communications-inc-nyse-104410643.html+\n",
      "\n",
      "24  Yahoo FinanceVerizon Media CEO explains how 5G is about more than super-fast downloads“Every industry is going to get disrupted,” Verizon Media Group CEO Guru Gowrappan said. “5G just accelerates that.”:\n",
      "/web/20191012054117/https://finance.yahoo.com/news/5g-veizon-media-ceo-guru-gowrappan-184807687.html+\n",
      "\n",
      "25  Insider MonkeyHere is the 8th Most Popular Stock Among Hedge FundsInsider Monkey finished processing more than 730 13F filings submitted by hedge funds and prominent investors. These filings show these funds' portfolio positions as of June 28th, 2019. What do these smart investors think about The Walt Disney Company (NYSE:DIS)? Even though The Walt Disney Company (NYSE:DIS) shareholders have witnessed a decrease in support from […]:\n",
      "/web/20191012054117/https://finance.yahoo.com/news/8th-most-popular-stock-among-170933621.html+\n",
      "\n"
     ]
    }
   ],
   "source": [
    "#not all of them\n",
    "c=0\n",
    "for x in b.find_all(\"li\",class_=\"js-stream-content\"):\n",
    "    c+=1\n",
    "    print (f\"{c}  {x.text}:\\n{x.find(href=True)['href']}+\\n\")\n",
    "    assert \"href\" in str(x)"
   ]
  },
  {
   "cell_type": "code",
   "execution_count": 36,
   "id": "6a930b4a",
   "metadata": {},
   "outputs": [
    {
     "name": "stdout",
     "output_type": "stream",
     "text": [
      "1   5G could be 'next great secular growth story':::\n",
      "2   Verizon Media CEO Guru Gowrappan on the push to 5G:::\n",
      "3   5G Will Revolutionize Every Industry ... But Only If It Has Blockchain Security:::\n",
      "!!!!!!!!!!!!valid!!!!!!!!!!!!!\n",
      " https://web.archive.org//web/20191012054117/https://finance.yahoo.com/news/5g-revolutionize-every-industry-only-182514495.html\n",
      "4   BUILT BY GIRLS, Speck And Verizon Unveil Winning Designs From Make My Case Competition:::\n",
      "!!!!!!!!!!!!valid!!!!!!!!!!!!!\n",
      " https://web.archive.org//web/20191012054117/https://finance.yahoo.com/news/built-girls-speck-verizon-unveil-160000329.html\n",
      "5   Trader Toolkit: Cash Flow:::\n",
      "!!!!!!!!!!!!valid!!!!!!!!!!!!!\n",
      " https://web.archive.org//web/20191012054117/https://finance.yahoo.com/news/trader-toolkit-cash-flow-131805890.html\n",
      "6   Verizon Is Ready for an Upside Breakout, Add to Longs:::\n",
      "7   AT&T, Verizon Race to Shore Up Service Threatened by PG&E Outage:::\n",
      "!!!!!!!!!!!!valid!!!!!!!!!!!!!\n",
      " https://web.archive.org//web/20191012054117/https://finance.yahoo.com/news/t-verizon-race-shore-threatened-164706367.html\n",
      "8   Verizon CEO: 5G will transform the world:::\n",
      "!!!!!!!!!!!!valid!!!!!!!!!!!!!\n",
      " https://web.archive.org//web/20191012054117/https://finance.yahoo.com/news/verizon-ceo-5g-will-transform-the-world-154708054.html\n",
      "9   [video]Buy Verizon for Its Content, Services and Generous Dividend:::\n",
      "10   Cheap Euro Financing Poses Major Headache for Taiwan’s Funds:::\n",
      "!!!!!!!!!!!!valid!!!!!!!!!!!!!\n",
      " https://web.archive.org//web/20191012054117/https://finance.yahoo.com/news/cheap-euro-financing-poses-major-223001637.html\n",
      "11   Were Hedge Funds Right About Piling Into Verizon Communications Inc. (VZ)?:::\n",
      "!!!!!!!!!!!!valid!!!!!!!!!!!!!\n",
      " https://web.archive.org//web/20191012054117/https://finance.yahoo.com/news/were-hedge-funds-piling-verizon-203554375.html\n",
      "12   Streaming Wars, Social Media And 5G: Comms Sector Earnings Preview:::\n",
      "!!!!!!!!!!!!valid!!!!!!!!!!!!!\n",
      " https://web.archive.org//web/20191012054117/https://finance.yahoo.com/news/streaming-wars-social-media-5g-162854684.html\n",
      "13   Verizon Communications (VZ) Gains As Market Dips: What You Should Know:::\n",
      "!!!!!!!!!!!!valid!!!!!!!!!!!!!\n",
      " https://web.archive.org//web/20191012054117/https://finance.yahoo.com/news/verizon-communications-vz-gains-market-214509967.html\n",
      "14   5G is mostly hype so far:::\n",
      "!!!!!!!!!!!!valid!!!!!!!!!!!!!\n",
      " https://web.archive.org//web/20191012054117/https://finance.yahoo.com/news/5g-testing-hype-174237826.html\n",
      "15   Wall Street Loves These “Strong Buy” Dividend Stocks:::\n",
      "!!!!!!!!!!!!valid!!!!!!!!!!!!!\n",
      " https://web.archive.org//web/20191012054117/https://finance.yahoo.com/news/wall-street-loves-strong-buy-142613096.html\n",
      "16   Keysight Helps PCTEST to Validate 5G Design & Test Solutions:::\n",
      "!!!!!!!!!!!!valid!!!!!!!!!!!!!\n",
      " https://web.archive.org//web/20191012054117/https://finance.yahoo.com/news/keysight-helps-pctest-validate-5g-140802369.html\n",
      "17   The Zacks Analyst Blog Highlights: Verizon Communications, PepsiCo, Biogen, Bank of New York ??? Mellon and Cerner:::\n",
      "!!!!!!!!!!!!valid!!!!!!!!!!!!!\n",
      " https://web.archive.org//web/20191012054117/https://finance.yahoo.com/news/zacks-analyst-blog-highlights-verizon-140302726.html\n",
      "18   Verizon and NEC just made fiber sensing a whole lot easier:::\n",
      "!!!!!!!!!!!!valid!!!!!!!!!!!!!\n",
      " https://web.archive.org//web/20191012054117/https://finance.yahoo.com/news/verizon-nec-just-made-fiber-140000871.html\n",
      "19   Top Stock Reports for Verizon, PepsiCo & Biogen:::\n",
      "!!!!!!!!!!!!valid!!!!!!!!!!!!!\n",
      " https://web.archive.org//web/20191012054117/https://finance.yahoo.com/news/top-stock-reports-verizon-pepsico-185106327.html\n",
      "20   T-Mobile-Sprint Merger Gets Majority Support at FCC:::\n",
      "!!!!!!!!!!!!valid!!!!!!!!!!!!!\n",
      " https://web.archive.org//web/20191012054117/https://finance.yahoo.com/news/t-mobile-sprint-merger-majority-145340050.html\n",
      "21   NewsBreak: T-Mobile-Sprint Merger Wins Majority Support at FCC - Report:::\n",
      "!!!!!!!!!!!!valid!!!!!!!!!!!!!\n",
      " https://web.archive.org//web/20191012054117/https://finance.yahoo.com/news/newsbreak-t-mobile-sprint-merger-131100420.html\n",
      "22   Do These 3 Checks Before Buying Verizon Communications Inc. (NYSE:VZ) For Its Upcoming Dividend:::\n",
      "!!!!!!!!!!!!valid!!!!!!!!!!!!!\n",
      " https://web.archive.org//web/20191012054117/https://finance.yahoo.com/news/3-checks-buying-verizon-communications-105139956.html\n",
      "23   Why Verizon Communications Inc. (NYSE:VZ) Looks Like A Quality Company:::\n",
      "!!!!!!!!!!!!valid!!!!!!!!!!!!!\n",
      " https://web.archive.org//web/20191012054117/https://finance.yahoo.com/news/why-verizon-communications-inc-nyse-104410643.html\n",
      "24   Verizon Media CEO explains how 5G is about more than super-fast downloads:::\n",
      "!!!!!!!!!!!!valid!!!!!!!!!!!!!\n",
      " https://web.archive.org//web/20191012054117/https://finance.yahoo.com/news/5g-veizon-media-ceo-guru-gowrappan-184807687.html\n",
      "25   Here is the 8th Most Popular Stock Among Hedge Funds:::\n",
      "!!!!!!!!!!!!valid!!!!!!!!!!!!!\n",
      " https://web.archive.org//web/20191012054117/https://finance.yahoo.com/news/8th-most-popular-stock-among-170933621.html\n"
     ]
    }
   ],
   "source": [
    "def show_articles(b):\n",
    "    c=0\n",
    "    seen=[]\n",
    "    good=[]\n",
    "    for x in b.find_all(\"li\",class_=\"js-stream-content\"):\n",
    "        for x2 in x.find_all(href=True):\n",
    "            href=x2[\"href\"]\n",
    "            if(href in seen):\n",
    "                print(\"seen\") \n",
    "            seen.append(href)\n",
    "            c+=1\n",
    "            z=\"*\"\n",
    "            if \"https://web.archive.org/\" not in href:\n",
    "                href=\"https://web.archive.org/\"+href\n",
    "                z=\"\"\n",
    "            print(f\"{c}   {x2.parent.text}:::\")\n",
    "            #print(x2.parent.parent.text)\n",
    "            if (\"finance.yahoo.com/news/\" in str(href)):\n",
    "                good.append(href)\n",
    "                print(\"!!!!!!!!!!!!valid!!!!!!!!!!!!!\")\n",
    "                print(f\"{z} {href}\")\n",
    "    return good\n",
    "links=show_articles(b)"
   ]
  },
  {
   "cell_type": "code",
   "execution_count": 37,
   "id": "20a1def1",
   "metadata": {},
   "outputs": [
    {
     "name": "stdout",
     "output_type": "stream",
     "text": [
      "https://web.archive.org//web/20160727193411/http://finance.yahoo.com/m/9a736299-9075-3caf-b0cb-1466b222214f/ss_t-mobile%E2%80%99s-legere-predicts.html\n"
     ]
    }
   ],
   "source": [
    "a=\"https://web.archive.org/\"+\"/web/20160727193411/http://finance.yahoo.com/m/9a736299-9075-3caf-b0cb-1466b222214f/ss_t-mobile%E2%80%99s-legere-predicts.html\"\n",
    "print(a)"
   ]
  },
  {
   "cell_type": "code",
   "execution_count": 38,
   "id": "2fe88d84",
   "metadata": {},
   "outputs": [
    {
     "data": {
      "text/plain": [
       "False"
      ]
     },
     "execution_count": 38,
     "metadata": {},
     "output_type": "execute_result"
    }
   ],
   "source": [
    "\"rss\" in str(b)"
   ]
  },
  {
   "cell_type": "code",
   "execution_count": 39,
   "id": "b3fdce06",
   "metadata": {},
   "outputs": [],
   "source": [
    "RP=\"_________\"\n",
    "def make_addres(url):\n",
    "    addres=url.replace(\":\",RP)\n",
    "    addres=os.path.join(\"archive\",addres)\n",
    "    return addres\n",
    "\n",
    "def write_url(url):\n",
    "    addres=make_addres(url)\n",
    "    os.makedirs(addres)\n",
    "    assert RP not in url\n",
    "    with req.get(url) as r:\n",
    "        if(url==r.url):\n",
    "            with open(os.path.join(addres,\"content.html\"),\"wb\") as f:\n",
    "                f.write(r.content)\n",
    "                return r.content\n",
    "        with open(os.path.join(addres,\"redirect\"),\"w\") as f:\n",
    "                addres=make_addres(r.url)\n",
    "                f.write(addres)\n",
    "        \n",
    "        os.makedirs(addres)\n",
    "        with open(os.path.join(addres,\"content.html\"),\"wb\") as f:\n",
    "                f.write(r.content)\n",
    "                return r.content\n",
    "           \n",
    "\n",
    "#write_url(\"https://web.archive.org/web/20191012054117/https://finance.yahoo.com/quote/VZ\")"
   ]
  },
  {
   "cell_type": "code",
   "execution_count": 40,
   "id": "c39d12fa",
   "metadata": {},
   "outputs": [],
   "source": [
    "def archive_get(url):\n",
    "    addres=make_addres(url)\n",
    "    try:\n",
    "        files=next(os.walk(addres))[-1]\n",
    "    except StopIteration:\n",
    "        return write_url(url)\n",
    "    if files[0]==\"redirect\":\n",
    "        with open(os.path.join(addres,\"redirect\")) as f:\n",
    "            addres=f.read()\n",
    "    with open(os.path.join(addres,\"content.html\"),\"rb\") as f:\n",
    "            return f.read()\n",
    "#archive_get(\"https://web.archive.org//web/20191012054117/https://finance.yahoo.com/news/built-girls-speck-verizon-unveil-160000329.html\")"
   ]
  },
  {
   "cell_type": "code",
   "execution_count": 44,
   "id": "381668de",
   "metadata": {},
   "outputs": [
    {
     "name": "stdout",
     "output_type": "stream",
     "text": [
      "https://web.archive.org//web/20191012054117/https://finance.yahoo.com/video/5g-could-next-great-secular-143305106.html\n",
      "https://web.archive.org//web/20191012054117/https://finance.yahoo.com/video/verizon-media-ceo-guru-gowrappan-171929745.html\n",
      "https://web.archive.org//web/20191012054117/https://finance.yahoo.com/news/5g-revolutionize-every-industry-only-182514495.html\n",
      "https://web.archive.org//web/20191012054117/https://finance.yahoo.com/news/built-girls-speck-verizon-unveil-160000329.html\n",
      "https://web.archive.org//web/20191012054117/https://finance.yahoo.com/news/trader-toolkit-cash-flow-131805890.html\n",
      "https://web.archive.org//web/20191012054117/https://finance.yahoo.com/m/400a414c-f65c-34c1-802d-2853984724d6/verizon-is-ready-for-an.html\n",
      "https://web.archive.org//web/20191012054117/https://finance.yahoo.com/news/t-verizon-race-shore-threatened-164706367.html\n",
      "https://web.archive.org//web/20191012054117/https://finance.yahoo.com/news/verizon-ceo-5g-will-transform-the-world-154708054.html\n",
      "https://web.archive.org//web/20191012054117/https://finance.yahoo.com/m/327305ff-8f87-3d50-a313-75a2feaf5094/%5Bvideo%5Dbuy-verizon-for-its.html\n",
      "https://web.archive.org//web/20191012054117/https://finance.yahoo.com/news/cheap-euro-financing-poses-major-223001637.html\n",
      "https://web.archive.org//web/20191012054117/https://finance.yahoo.com/news/were-hedge-funds-piling-verizon-203554375.html\n",
      "https://web.archive.org//web/20191012054117/https://finance.yahoo.com/news/streaming-wars-social-media-5g-162854684.html\n",
      "https://web.archive.org//web/20191012054117/https://finance.yahoo.com/news/verizon-communications-vz-gains-market-214509967.html\n",
      "https://web.archive.org//web/20191012054117/https://finance.yahoo.com/news/5g-testing-hype-174237826.html\n",
      "https://web.archive.org//web/20191012054117/https://finance.yahoo.com/news/wall-street-loves-strong-buy-142613096.html\n",
      "https://web.archive.org//web/20191012054117/https://finance.yahoo.com/news/keysight-helps-pctest-validate-5g-140802369.html\n",
      "https://web.archive.org//web/20191012054117/https://finance.yahoo.com/news/zacks-analyst-blog-highlights-verizon-140302726.html\n",
      "https://web.archive.org//web/20191012054117/https://finance.yahoo.com/news/verizon-nec-just-made-fiber-140000871.html\n",
      "https://web.archive.org//web/20191012054117/https://finance.yahoo.com/news/top-stock-reports-verizon-pepsico-185106327.html\n",
      "https://web.archive.org//web/20191012054117/https://finance.yahoo.com/news/t-mobile-sprint-merger-majority-145340050.html\n",
      "https://web.archive.org//web/20191012054117/https://finance.yahoo.com/news/newsbreak-t-mobile-sprint-merger-131100420.html\n",
      "https://web.archive.org//web/20191012054117/https://finance.yahoo.com/news/3-checks-buying-verizon-communications-105139956.html\n",
      "https://web.archive.org//web/20191012054117/https://finance.yahoo.com/news/why-verizon-communications-inc-nyse-104410643.html\n",
      "https://web.archive.org//web/20191012054117/https://finance.yahoo.com/news/5g-veizon-media-ceo-guru-gowrappan-184807687.html\n",
      "https://web.archive.org//web/20191012054117/https://finance.yahoo.com/news/8th-most-popular-stock-among-170933621.html\n"
     ]
    }
   ],
   "source": [
    "def get_articles(b):\n",
    "    for x in b.find_all(\"li\",class_=\"js-stream-content\"):\n",
    "        for x2 in x.find_all(href=True):\n",
    "            href=x2[\"href\"]\n",
    "            if \"https://web.archive.org/\" not in href:\n",
    "                href=\"https://web.archive.org/\"+href\n",
    "            yield (x2.text,x2.parent.parent.text,href)\n",
    "            \n",
    "def handle_link(url):\n",
    "    if \"finance.yahoo.com/news/\" not in url:\n",
    "        return None\n",
    "    try:\n",
    "        with req.get(url) as r:\n",
    "            return (bs4.BeautifulSoup(r.content).find(\"article\").text,r.url)\n",
    "    except Exception:\n",
    "        print(Exception.__class__.__name__)\n",
    "        return None\n",
    "for a in get_articles(b):\n",
    "    print(a[-1])"
   ]
  },
  {
   "cell_type": "code",
   "execution_count": 42,
   "id": "2a83bbe0",
   "metadata": {},
   "outputs": [
    {
     "data": {
      "text/plain": [
       "[[range(0, 0), range(0, 1), range(0, 2), range(0, 3), range(0, 4)],\n",
       " [range(0, 0), range(0, 1), range(0, 2), range(0, 3), range(0, 4)]]"
      ]
     },
     "execution_count": 42,
     "metadata": {},
     "output_type": "execute_result"
    }
   ],
   "source": [
    "def thread_distribute(l,f,n=1):\n",
    "    #print(type(l))\n",
    "    if(n==0):\n",
    "        return f(l)\n",
    "    \n",
    "    with concurrent.futures.ThreadPoolExecutor() as executor: \n",
    "        l=[executor.submit(lambda x: thread_distribute(x,f,n-1),x) for x in l]\n",
    "        l= [x.result() for x in l]\n",
    "    return l\n",
    "\n",
    "thread_distribute([range(5) for i in range(2)],lambda x: range(x),2)"
   ]
  },
  {
   "cell_type": "code",
   "execution_count": null,
   "id": "a24f68a7",
   "metadata": {},
   "outputs": [],
   "source": [
    "data.iloc[::-1]"
   ]
  },
  {
   "cell_type": "code",
   "execution_count": null,
   "id": "7bc046f1",
   "metadata": {},
   "outputs": [],
   "source": [
    "for a in get_articles(b):\n",
    "    print(f\"{a[0]} \\n\\n {a[1]} \\n*********************\\n\")"
   ]
  },
  {
   "cell_type": "code",
   "execution_count": 13,
   "id": "c6449573",
   "metadata": {},
   "outputs": [],
   "source": [
    "file_names=[\"headline\",\"summary\",\"link\"]\n",
    "def save_page(row,save_adress=os.path.join(\"archive\",\"VZ\")):\n",
    "    url=get_wayback_url(row)\n",
    "    with req.get(url) as r:\n",
    "        ans=get_articles(bs4.BeautifulSoup(r.content))\n",
    "    \n",
    "    for n,article in enumerate(ans):\n",
    "        folder=os.path.join(save_adress,row[\"timestamp\"],str(n))\n",
    "        os.makedirs(folder)\n",
    "        for i in range(3):\n",
    "            with open(os.path.join(folder,file_names[i]),mode=\"+w\") as f:\n",
    "                f.write(article[i])\n",
    "\n",
    "#save_page(data.iloc[-1])"
   ]
  },
  {
   "cell_type": "code",
   "execution_count": null,
   "id": "2eba43b5",
   "metadata": {},
   "outputs": [],
   "source": [
    "thread_distribute(data.iloc[::-1].iloc,save_page)"
   ]
  },
  {
   "cell_type": "code",
   "execution_count": null,
   "id": "03ec5923",
   "metadata": {},
   "outputs": [],
   "source": [
    "a=next(os.walk(os.path.join(\"archive\",\"VZ\")))\n",
    "len(a[1]),len(data)"
   ]
  },
  {
   "cell_type": "code",
   "execution_count": 16,
   "id": "ca983a6f",
   "metadata": {},
   "outputs": [
    {
     "ename": "FileExistsError",
     "evalue": "[WinError 183] Cannot create a file when that file already exists: 'archive\\\\VZ\\\\20221018064915\\\\0'",
     "output_type": "error",
     "traceback": [
      "\u001b[1;31m---------------------------------------------------------------------------\u001b[0m",
      "\u001b[1;31mFileExistsError\u001b[0m                           Traceback (most recent call last)",
      "\u001b[1;32m~\\AppData\\Local\\Temp/ipykernel_25596/671699244.py\u001b[0m in \u001b[0;36m<module>\u001b[1;34m\u001b[0m\n\u001b[0;32m      8\u001b[0m     \u001b[0mthread_distribute\u001b[0m\u001b[1;33m(\u001b[0m\u001b[0mdata\u001b[0m\u001b[1;33m.\u001b[0m\u001b[0miloc\u001b[0m\u001b[1;33m[\u001b[0m\u001b[1;33m:\u001b[0m\u001b[1;33m:\u001b[0m\u001b[1;33m-\u001b[0m\u001b[1;36m1\u001b[0m\u001b[1;33m]\u001b[0m\u001b[1;33m.\u001b[0m\u001b[0miloc\u001b[0m\u001b[1;33m,\u001b[0m\u001b[1;32mlambda\u001b[0m \u001b[0mx\u001b[0m\u001b[1;33m:\u001b[0m \u001b[0msave_page\u001b[0m\u001b[1;33m(\u001b[0m\u001b[0mx\u001b[0m\u001b[1;33m,\u001b[0m\u001b[0mos\u001b[0m\u001b[1;33m.\u001b[0m\u001b[0mpath\u001b[0m\u001b[1;33m.\u001b[0m\u001b[0mjoin\u001b[0m\u001b[1;33m(\u001b[0m\u001b[1;34m\"archive\"\u001b[0m\u001b[1;33m,\u001b[0m\u001b[0mticker\u001b[0m\u001b[1;33m)\u001b[0m\u001b[1;33m)\u001b[0m\u001b[1;33m)\u001b[0m\u001b[1;33m\u001b[0m\u001b[1;33m\u001b[0m\u001b[0m\n\u001b[0;32m      9\u001b[0m \u001b[1;33m\u001b[0m\u001b[0m\n\u001b[1;32m---> 10\u001b[1;33m \u001b[0mcolect_stock\u001b[0m\u001b[1;33m(\u001b[0m\u001b[1;34m\"VZ\"\u001b[0m\u001b[1;33m)\u001b[0m\u001b[1;33m\u001b[0m\u001b[1;33m\u001b[0m\u001b[0m\n\u001b[0m",
      "\u001b[1;32m~\\AppData\\Local\\Temp/ipykernel_25596/671699244.py\u001b[0m in \u001b[0;36mcolect_stock\u001b[1;34m(ticker)\u001b[0m\n\u001b[0;32m      6\u001b[0m     \u001b[0mdata\u001b[0m\u001b[1;33m=\u001b[0m\u001b[0mdata\u001b[0m\u001b[1;33m[\u001b[0m\u001b[0mdata\u001b[0m\u001b[1;33m[\u001b[0m\u001b[1;34m\"timestamp\"\u001b[0m\u001b[1;33m]\u001b[0m\u001b[1;33m.\u001b[0m\u001b[0mmap\u001b[0m\u001b[1;33m(\u001b[0m\u001b[1;32mlambda\u001b[0m \u001b[0mx\u001b[0m\u001b[1;33m:\u001b[0m \u001b[0mint\u001b[0m\u001b[1;33m(\u001b[0m\u001b[0mx\u001b[0m\u001b[1;33m[\u001b[0m\u001b[1;36m0\u001b[0m\u001b[1;33m:\u001b[0m\u001b[1;36m6\u001b[0m\u001b[1;33m]\u001b[0m\u001b[1;33m)\u001b[0m\u001b[1;33m>=\u001b[0m\u001b[1;36m201910\u001b[0m\u001b[1;33m)\u001b[0m\u001b[1;33m]\u001b[0m\u001b[1;33m\u001b[0m\u001b[1;33m\u001b[0m\u001b[0m\n\u001b[0;32m      7\u001b[0m \u001b[1;33m\u001b[0m\u001b[0m\n\u001b[1;32m----> 8\u001b[1;33m     \u001b[0mthread_distribute\u001b[0m\u001b[1;33m(\u001b[0m\u001b[0mdata\u001b[0m\u001b[1;33m.\u001b[0m\u001b[0miloc\u001b[0m\u001b[1;33m[\u001b[0m\u001b[1;33m:\u001b[0m\u001b[1;33m:\u001b[0m\u001b[1;33m-\u001b[0m\u001b[1;36m1\u001b[0m\u001b[1;33m]\u001b[0m\u001b[1;33m.\u001b[0m\u001b[0miloc\u001b[0m\u001b[1;33m,\u001b[0m\u001b[1;32mlambda\u001b[0m \u001b[0mx\u001b[0m\u001b[1;33m:\u001b[0m \u001b[0msave_page\u001b[0m\u001b[1;33m(\u001b[0m\u001b[0mx\u001b[0m\u001b[1;33m,\u001b[0m\u001b[0mos\u001b[0m\u001b[1;33m.\u001b[0m\u001b[0mpath\u001b[0m\u001b[1;33m.\u001b[0m\u001b[0mjoin\u001b[0m\u001b[1;33m(\u001b[0m\u001b[1;34m\"archive\"\u001b[0m\u001b[1;33m,\u001b[0m\u001b[0mticker\u001b[0m\u001b[1;33m)\u001b[0m\u001b[1;33m)\u001b[0m\u001b[1;33m)\u001b[0m\u001b[1;33m\u001b[0m\u001b[1;33m\u001b[0m\u001b[0m\n\u001b[0m\u001b[0;32m      9\u001b[0m \u001b[1;33m\u001b[0m\u001b[0m\n\u001b[0;32m     10\u001b[0m \u001b[0mcolect_stock\u001b[0m\u001b[1;33m(\u001b[0m\u001b[1;34m\"VZ\"\u001b[0m\u001b[1;33m)\u001b[0m\u001b[1;33m\u001b[0m\u001b[1;33m\u001b[0m\u001b[0m\n",
      "\u001b[1;32m~\\AppData\\Local\\Temp/ipykernel_25596/410584284.py\u001b[0m in \u001b[0;36mthread_distribute\u001b[1;34m(l, f, n)\u001b[0m\n\u001b[0;32m      6\u001b[0m     \u001b[1;32mwith\u001b[0m \u001b[0mconcurrent\u001b[0m\u001b[1;33m.\u001b[0m\u001b[0mfutures\u001b[0m\u001b[1;33m.\u001b[0m\u001b[0mThreadPoolExecutor\u001b[0m\u001b[1;33m(\u001b[0m\u001b[1;33m)\u001b[0m \u001b[1;32mas\u001b[0m \u001b[0mexecutor\u001b[0m\u001b[1;33m:\u001b[0m\u001b[1;33m\u001b[0m\u001b[1;33m\u001b[0m\u001b[0m\n\u001b[0;32m      7\u001b[0m         \u001b[0ml\u001b[0m\u001b[1;33m=\u001b[0m\u001b[1;33m[\u001b[0m\u001b[0mexecutor\u001b[0m\u001b[1;33m.\u001b[0m\u001b[0msubmit\u001b[0m\u001b[1;33m(\u001b[0m\u001b[1;32mlambda\u001b[0m \u001b[0mx\u001b[0m\u001b[1;33m:\u001b[0m \u001b[0mthread_distribute\u001b[0m\u001b[1;33m(\u001b[0m\u001b[0mx\u001b[0m\u001b[1;33m,\u001b[0m\u001b[0mf\u001b[0m\u001b[1;33m,\u001b[0m\u001b[0mn\u001b[0m\u001b[1;33m-\u001b[0m\u001b[1;36m1\u001b[0m\u001b[1;33m)\u001b[0m\u001b[1;33m,\u001b[0m\u001b[0mx\u001b[0m\u001b[1;33m)\u001b[0m \u001b[1;32mfor\u001b[0m \u001b[0mx\u001b[0m \u001b[1;32min\u001b[0m \u001b[0ml\u001b[0m\u001b[1;33m]\u001b[0m\u001b[1;33m\u001b[0m\u001b[1;33m\u001b[0m\u001b[0m\n\u001b[1;32m----> 8\u001b[1;33m         \u001b[0ml\u001b[0m\u001b[1;33m=\u001b[0m \u001b[1;33m[\u001b[0m\u001b[0mx\u001b[0m\u001b[1;33m.\u001b[0m\u001b[0mresult\u001b[0m\u001b[1;33m(\u001b[0m\u001b[1;33m)\u001b[0m \u001b[1;32mfor\u001b[0m \u001b[0mx\u001b[0m \u001b[1;32min\u001b[0m \u001b[0ml\u001b[0m\u001b[1;33m]\u001b[0m\u001b[1;33m\u001b[0m\u001b[1;33m\u001b[0m\u001b[0m\n\u001b[0m\u001b[0;32m      9\u001b[0m     \u001b[1;32mreturn\u001b[0m \u001b[0ml\u001b[0m\u001b[1;33m\u001b[0m\u001b[1;33m\u001b[0m\u001b[0m\n\u001b[0;32m     10\u001b[0m \u001b[1;33m\u001b[0m\u001b[0m\n",
      "\u001b[1;32m~\\AppData\\Local\\Temp/ipykernel_25596/410584284.py\u001b[0m in \u001b[0;36m<listcomp>\u001b[1;34m(.0)\u001b[0m\n\u001b[0;32m      6\u001b[0m     \u001b[1;32mwith\u001b[0m \u001b[0mconcurrent\u001b[0m\u001b[1;33m.\u001b[0m\u001b[0mfutures\u001b[0m\u001b[1;33m.\u001b[0m\u001b[0mThreadPoolExecutor\u001b[0m\u001b[1;33m(\u001b[0m\u001b[1;33m)\u001b[0m \u001b[1;32mas\u001b[0m \u001b[0mexecutor\u001b[0m\u001b[1;33m:\u001b[0m\u001b[1;33m\u001b[0m\u001b[1;33m\u001b[0m\u001b[0m\n\u001b[0;32m      7\u001b[0m         \u001b[0ml\u001b[0m\u001b[1;33m=\u001b[0m\u001b[1;33m[\u001b[0m\u001b[0mexecutor\u001b[0m\u001b[1;33m.\u001b[0m\u001b[0msubmit\u001b[0m\u001b[1;33m(\u001b[0m\u001b[1;32mlambda\u001b[0m \u001b[0mx\u001b[0m\u001b[1;33m:\u001b[0m \u001b[0mthread_distribute\u001b[0m\u001b[1;33m(\u001b[0m\u001b[0mx\u001b[0m\u001b[1;33m,\u001b[0m\u001b[0mf\u001b[0m\u001b[1;33m,\u001b[0m\u001b[0mn\u001b[0m\u001b[1;33m-\u001b[0m\u001b[1;36m1\u001b[0m\u001b[1;33m)\u001b[0m\u001b[1;33m,\u001b[0m\u001b[0mx\u001b[0m\u001b[1;33m)\u001b[0m \u001b[1;32mfor\u001b[0m \u001b[0mx\u001b[0m \u001b[1;32min\u001b[0m \u001b[0ml\u001b[0m\u001b[1;33m]\u001b[0m\u001b[1;33m\u001b[0m\u001b[1;33m\u001b[0m\u001b[0m\n\u001b[1;32m----> 8\u001b[1;33m         \u001b[0ml\u001b[0m\u001b[1;33m=\u001b[0m \u001b[1;33m[\u001b[0m\u001b[0mx\u001b[0m\u001b[1;33m.\u001b[0m\u001b[0mresult\u001b[0m\u001b[1;33m(\u001b[0m\u001b[1;33m)\u001b[0m \u001b[1;32mfor\u001b[0m \u001b[0mx\u001b[0m \u001b[1;32min\u001b[0m \u001b[0ml\u001b[0m\u001b[1;33m]\u001b[0m\u001b[1;33m\u001b[0m\u001b[1;33m\u001b[0m\u001b[0m\n\u001b[0m\u001b[0;32m      9\u001b[0m     \u001b[1;32mreturn\u001b[0m \u001b[0ml\u001b[0m\u001b[1;33m\u001b[0m\u001b[1;33m\u001b[0m\u001b[0m\n\u001b[0;32m     10\u001b[0m \u001b[1;33m\u001b[0m\u001b[0m\n",
      "\u001b[1;32mC:\\ProgramData\\Anaconda3\\lib\\concurrent\\futures\\_base.py\u001b[0m in \u001b[0;36mresult\u001b[1;34m(self, timeout)\u001b[0m\n\u001b[0;32m    443\u001b[0m                     \u001b[1;32mraise\u001b[0m \u001b[0mCancelledError\u001b[0m\u001b[1;33m(\u001b[0m\u001b[1;33m)\u001b[0m\u001b[1;33m\u001b[0m\u001b[1;33m\u001b[0m\u001b[0m\n\u001b[0;32m    444\u001b[0m                 \u001b[1;32melif\u001b[0m \u001b[0mself\u001b[0m\u001b[1;33m.\u001b[0m\u001b[0m_state\u001b[0m \u001b[1;33m==\u001b[0m \u001b[0mFINISHED\u001b[0m\u001b[1;33m:\u001b[0m\u001b[1;33m\u001b[0m\u001b[1;33m\u001b[0m\u001b[0m\n\u001b[1;32m--> 445\u001b[1;33m                     \u001b[1;32mreturn\u001b[0m \u001b[0mself\u001b[0m\u001b[1;33m.\u001b[0m\u001b[0m__get_result\u001b[0m\u001b[1;33m(\u001b[0m\u001b[1;33m)\u001b[0m\u001b[1;33m\u001b[0m\u001b[1;33m\u001b[0m\u001b[0m\n\u001b[0m\u001b[0;32m    446\u001b[0m                 \u001b[1;32melse\u001b[0m\u001b[1;33m:\u001b[0m\u001b[1;33m\u001b[0m\u001b[1;33m\u001b[0m\u001b[0m\n\u001b[0;32m    447\u001b[0m                     \u001b[1;32mraise\u001b[0m \u001b[0mTimeoutError\u001b[0m\u001b[1;33m(\u001b[0m\u001b[1;33m)\u001b[0m\u001b[1;33m\u001b[0m\u001b[1;33m\u001b[0m\u001b[0m\n",
      "\u001b[1;32mC:\\ProgramData\\Anaconda3\\lib\\concurrent\\futures\\_base.py\u001b[0m in \u001b[0;36m__get_result\u001b[1;34m(self)\u001b[0m\n\u001b[0;32m    388\u001b[0m         \u001b[1;32mif\u001b[0m \u001b[0mself\u001b[0m\u001b[1;33m.\u001b[0m\u001b[0m_exception\u001b[0m\u001b[1;33m:\u001b[0m\u001b[1;33m\u001b[0m\u001b[1;33m\u001b[0m\u001b[0m\n\u001b[0;32m    389\u001b[0m             \u001b[1;32mtry\u001b[0m\u001b[1;33m:\u001b[0m\u001b[1;33m\u001b[0m\u001b[1;33m\u001b[0m\u001b[0m\n\u001b[1;32m--> 390\u001b[1;33m                 \u001b[1;32mraise\u001b[0m \u001b[0mself\u001b[0m\u001b[1;33m.\u001b[0m\u001b[0m_exception\u001b[0m\u001b[1;33m\u001b[0m\u001b[1;33m\u001b[0m\u001b[0m\n\u001b[0m\u001b[0;32m    391\u001b[0m             \u001b[1;32mfinally\u001b[0m\u001b[1;33m:\u001b[0m\u001b[1;33m\u001b[0m\u001b[1;33m\u001b[0m\u001b[0m\n\u001b[0;32m    392\u001b[0m                 \u001b[1;31m# Break a reference cycle with the exception in self._exception\u001b[0m\u001b[1;33m\u001b[0m\u001b[1;33m\u001b[0m\u001b[0m\n",
      "\u001b[1;32mC:\\ProgramData\\Anaconda3\\lib\\concurrent\\futures\\thread.py\u001b[0m in \u001b[0;36mrun\u001b[1;34m(self)\u001b[0m\n\u001b[0;32m     50\u001b[0m \u001b[1;33m\u001b[0m\u001b[0m\n\u001b[0;32m     51\u001b[0m         \u001b[1;32mtry\u001b[0m\u001b[1;33m:\u001b[0m\u001b[1;33m\u001b[0m\u001b[1;33m\u001b[0m\u001b[0m\n\u001b[1;32m---> 52\u001b[1;33m             \u001b[0mresult\u001b[0m \u001b[1;33m=\u001b[0m \u001b[0mself\u001b[0m\u001b[1;33m.\u001b[0m\u001b[0mfn\u001b[0m\u001b[1;33m(\u001b[0m\u001b[1;33m*\u001b[0m\u001b[0mself\u001b[0m\u001b[1;33m.\u001b[0m\u001b[0margs\u001b[0m\u001b[1;33m,\u001b[0m \u001b[1;33m**\u001b[0m\u001b[0mself\u001b[0m\u001b[1;33m.\u001b[0m\u001b[0mkwargs\u001b[0m\u001b[1;33m)\u001b[0m\u001b[1;33m\u001b[0m\u001b[1;33m\u001b[0m\u001b[0m\n\u001b[0m\u001b[0;32m     53\u001b[0m         \u001b[1;32mexcept\u001b[0m \u001b[0mBaseException\u001b[0m \u001b[1;32mas\u001b[0m \u001b[0mexc\u001b[0m\u001b[1;33m:\u001b[0m\u001b[1;33m\u001b[0m\u001b[1;33m\u001b[0m\u001b[0m\n\u001b[0;32m     54\u001b[0m             \u001b[0mself\u001b[0m\u001b[1;33m.\u001b[0m\u001b[0mfuture\u001b[0m\u001b[1;33m.\u001b[0m\u001b[0mset_exception\u001b[0m\u001b[1;33m(\u001b[0m\u001b[0mexc\u001b[0m\u001b[1;33m)\u001b[0m\u001b[1;33m\u001b[0m\u001b[1;33m\u001b[0m\u001b[0m\n",
      "\u001b[1;32m~\\AppData\\Local\\Temp/ipykernel_25596/410584284.py\u001b[0m in \u001b[0;36m<lambda>\u001b[1;34m(x)\u001b[0m\n\u001b[0;32m      5\u001b[0m \u001b[1;33m\u001b[0m\u001b[0m\n\u001b[0;32m      6\u001b[0m     \u001b[1;32mwith\u001b[0m \u001b[0mconcurrent\u001b[0m\u001b[1;33m.\u001b[0m\u001b[0mfutures\u001b[0m\u001b[1;33m.\u001b[0m\u001b[0mThreadPoolExecutor\u001b[0m\u001b[1;33m(\u001b[0m\u001b[1;33m)\u001b[0m \u001b[1;32mas\u001b[0m \u001b[0mexecutor\u001b[0m\u001b[1;33m:\u001b[0m\u001b[1;33m\u001b[0m\u001b[1;33m\u001b[0m\u001b[0m\n\u001b[1;32m----> 7\u001b[1;33m         \u001b[0ml\u001b[0m\u001b[1;33m=\u001b[0m\u001b[1;33m[\u001b[0m\u001b[0mexecutor\u001b[0m\u001b[1;33m.\u001b[0m\u001b[0msubmit\u001b[0m\u001b[1;33m(\u001b[0m\u001b[1;32mlambda\u001b[0m \u001b[0mx\u001b[0m\u001b[1;33m:\u001b[0m \u001b[0mthread_distribute\u001b[0m\u001b[1;33m(\u001b[0m\u001b[0mx\u001b[0m\u001b[1;33m,\u001b[0m\u001b[0mf\u001b[0m\u001b[1;33m,\u001b[0m\u001b[0mn\u001b[0m\u001b[1;33m-\u001b[0m\u001b[1;36m1\u001b[0m\u001b[1;33m)\u001b[0m\u001b[1;33m,\u001b[0m\u001b[0mx\u001b[0m\u001b[1;33m)\u001b[0m \u001b[1;32mfor\u001b[0m \u001b[0mx\u001b[0m \u001b[1;32min\u001b[0m \u001b[0ml\u001b[0m\u001b[1;33m]\u001b[0m\u001b[1;33m\u001b[0m\u001b[1;33m\u001b[0m\u001b[0m\n\u001b[0m\u001b[0;32m      8\u001b[0m         \u001b[0ml\u001b[0m\u001b[1;33m=\u001b[0m \u001b[1;33m[\u001b[0m\u001b[0mx\u001b[0m\u001b[1;33m.\u001b[0m\u001b[0mresult\u001b[0m\u001b[1;33m(\u001b[0m\u001b[1;33m)\u001b[0m \u001b[1;32mfor\u001b[0m \u001b[0mx\u001b[0m \u001b[1;32min\u001b[0m \u001b[0ml\u001b[0m\u001b[1;33m]\u001b[0m\u001b[1;33m\u001b[0m\u001b[1;33m\u001b[0m\u001b[0m\n\u001b[0;32m      9\u001b[0m     \u001b[1;32mreturn\u001b[0m \u001b[0ml\u001b[0m\u001b[1;33m\u001b[0m\u001b[1;33m\u001b[0m\u001b[0m\n",
      "\u001b[1;32m~\\AppData\\Local\\Temp/ipykernel_25596/410584284.py\u001b[0m in \u001b[0;36mthread_distribute\u001b[1;34m(l, f, n)\u001b[0m\n\u001b[0;32m      2\u001b[0m     \u001b[1;31m#print(type(l))\u001b[0m\u001b[1;33m\u001b[0m\u001b[1;33m\u001b[0m\u001b[0m\n\u001b[0;32m      3\u001b[0m     \u001b[1;32mif\u001b[0m\u001b[1;33m(\u001b[0m\u001b[0mn\u001b[0m\u001b[1;33m==\u001b[0m\u001b[1;36m0\u001b[0m\u001b[1;33m)\u001b[0m\u001b[1;33m:\u001b[0m\u001b[1;33m\u001b[0m\u001b[1;33m\u001b[0m\u001b[0m\n\u001b[1;32m----> 4\u001b[1;33m         \u001b[1;32mreturn\u001b[0m \u001b[0mf\u001b[0m\u001b[1;33m(\u001b[0m\u001b[0ml\u001b[0m\u001b[1;33m)\u001b[0m\u001b[1;33m\u001b[0m\u001b[1;33m\u001b[0m\u001b[0m\n\u001b[0m\u001b[0;32m      5\u001b[0m \u001b[1;33m\u001b[0m\u001b[0m\n\u001b[0;32m      6\u001b[0m     \u001b[1;32mwith\u001b[0m \u001b[0mconcurrent\u001b[0m\u001b[1;33m.\u001b[0m\u001b[0mfutures\u001b[0m\u001b[1;33m.\u001b[0m\u001b[0mThreadPoolExecutor\u001b[0m\u001b[1;33m(\u001b[0m\u001b[1;33m)\u001b[0m \u001b[1;32mas\u001b[0m \u001b[0mexecutor\u001b[0m\u001b[1;33m:\u001b[0m\u001b[1;33m\u001b[0m\u001b[1;33m\u001b[0m\u001b[0m\n",
      "\u001b[1;32m~\\AppData\\Local\\Temp/ipykernel_25596/671699244.py\u001b[0m in \u001b[0;36m<lambda>\u001b[1;34m(x)\u001b[0m\n\u001b[0;32m      6\u001b[0m     \u001b[0mdata\u001b[0m\u001b[1;33m=\u001b[0m\u001b[0mdata\u001b[0m\u001b[1;33m[\u001b[0m\u001b[0mdata\u001b[0m\u001b[1;33m[\u001b[0m\u001b[1;34m\"timestamp\"\u001b[0m\u001b[1;33m]\u001b[0m\u001b[1;33m.\u001b[0m\u001b[0mmap\u001b[0m\u001b[1;33m(\u001b[0m\u001b[1;32mlambda\u001b[0m \u001b[0mx\u001b[0m\u001b[1;33m:\u001b[0m \u001b[0mint\u001b[0m\u001b[1;33m(\u001b[0m\u001b[0mx\u001b[0m\u001b[1;33m[\u001b[0m\u001b[1;36m0\u001b[0m\u001b[1;33m:\u001b[0m\u001b[1;36m6\u001b[0m\u001b[1;33m]\u001b[0m\u001b[1;33m)\u001b[0m\u001b[1;33m>=\u001b[0m\u001b[1;36m201910\u001b[0m\u001b[1;33m)\u001b[0m\u001b[1;33m]\u001b[0m\u001b[1;33m\u001b[0m\u001b[1;33m\u001b[0m\u001b[0m\n\u001b[0;32m      7\u001b[0m \u001b[1;33m\u001b[0m\u001b[0m\n\u001b[1;32m----> 8\u001b[1;33m     \u001b[0mthread_distribute\u001b[0m\u001b[1;33m(\u001b[0m\u001b[0mdata\u001b[0m\u001b[1;33m.\u001b[0m\u001b[0miloc\u001b[0m\u001b[1;33m[\u001b[0m\u001b[1;33m:\u001b[0m\u001b[1;33m:\u001b[0m\u001b[1;33m-\u001b[0m\u001b[1;36m1\u001b[0m\u001b[1;33m]\u001b[0m\u001b[1;33m.\u001b[0m\u001b[0miloc\u001b[0m\u001b[1;33m,\u001b[0m\u001b[1;32mlambda\u001b[0m \u001b[0mx\u001b[0m\u001b[1;33m:\u001b[0m \u001b[0msave_page\u001b[0m\u001b[1;33m(\u001b[0m\u001b[0mx\u001b[0m\u001b[1;33m,\u001b[0m\u001b[0mos\u001b[0m\u001b[1;33m.\u001b[0m\u001b[0mpath\u001b[0m\u001b[1;33m.\u001b[0m\u001b[0mjoin\u001b[0m\u001b[1;33m(\u001b[0m\u001b[1;34m\"archive\"\u001b[0m\u001b[1;33m,\u001b[0m\u001b[0mticker\u001b[0m\u001b[1;33m)\u001b[0m\u001b[1;33m)\u001b[0m\u001b[1;33m)\u001b[0m\u001b[1;33m\u001b[0m\u001b[1;33m\u001b[0m\u001b[0m\n\u001b[0m\u001b[0;32m      9\u001b[0m \u001b[1;33m\u001b[0m\u001b[0m\n\u001b[0;32m     10\u001b[0m \u001b[0mcolect_stock\u001b[0m\u001b[1;33m(\u001b[0m\u001b[1;34m\"VZ\"\u001b[0m\u001b[1;33m)\u001b[0m\u001b[1;33m\u001b[0m\u001b[1;33m\u001b[0m\u001b[0m\n",
      "\u001b[1;32m~\\AppData\\Local\\Temp/ipykernel_25596/168027151.py\u001b[0m in \u001b[0;36msave_page\u001b[1;34m(row, save_adress)\u001b[0m\n\u001b[0;32m      7\u001b[0m     \u001b[1;32mfor\u001b[0m \u001b[0mn\u001b[0m\u001b[1;33m,\u001b[0m\u001b[0marticle\u001b[0m \u001b[1;32min\u001b[0m \u001b[0menumerate\u001b[0m\u001b[1;33m(\u001b[0m\u001b[0mans\u001b[0m\u001b[1;33m)\u001b[0m\u001b[1;33m:\u001b[0m\u001b[1;33m\u001b[0m\u001b[1;33m\u001b[0m\u001b[0m\n\u001b[0;32m      8\u001b[0m         \u001b[0mfolder\u001b[0m\u001b[1;33m=\u001b[0m\u001b[0mos\u001b[0m\u001b[1;33m.\u001b[0m\u001b[0mpath\u001b[0m\u001b[1;33m.\u001b[0m\u001b[0mjoin\u001b[0m\u001b[1;33m(\u001b[0m\u001b[0msave_adress\u001b[0m\u001b[1;33m,\u001b[0m\u001b[0mrow\u001b[0m\u001b[1;33m[\u001b[0m\u001b[1;34m\"timestamp\"\u001b[0m\u001b[1;33m]\u001b[0m\u001b[1;33m,\u001b[0m\u001b[0mstr\u001b[0m\u001b[1;33m(\u001b[0m\u001b[0mn\u001b[0m\u001b[1;33m)\u001b[0m\u001b[1;33m)\u001b[0m\u001b[1;33m\u001b[0m\u001b[1;33m\u001b[0m\u001b[0m\n\u001b[1;32m----> 9\u001b[1;33m         \u001b[0mos\u001b[0m\u001b[1;33m.\u001b[0m\u001b[0mmakedirs\u001b[0m\u001b[1;33m(\u001b[0m\u001b[0mfolder\u001b[0m\u001b[1;33m)\u001b[0m\u001b[1;33m\u001b[0m\u001b[1;33m\u001b[0m\u001b[0m\n\u001b[0m\u001b[0;32m     10\u001b[0m         \u001b[1;32mfor\u001b[0m \u001b[0mi\u001b[0m \u001b[1;32min\u001b[0m \u001b[0mrange\u001b[0m\u001b[1;33m(\u001b[0m\u001b[1;36m3\u001b[0m\u001b[1;33m)\u001b[0m\u001b[1;33m:\u001b[0m\u001b[1;33m\u001b[0m\u001b[1;33m\u001b[0m\u001b[0m\n\u001b[0;32m     11\u001b[0m             \u001b[1;32mwith\u001b[0m \u001b[0mopen\u001b[0m\u001b[1;33m(\u001b[0m\u001b[0mos\u001b[0m\u001b[1;33m.\u001b[0m\u001b[0mpath\u001b[0m\u001b[1;33m.\u001b[0m\u001b[0mjoin\u001b[0m\u001b[1;33m(\u001b[0m\u001b[0mfolder\u001b[0m\u001b[1;33m,\u001b[0m\u001b[0mfile_names\u001b[0m\u001b[1;33m[\u001b[0m\u001b[0mi\u001b[0m\u001b[1;33m]\u001b[0m\u001b[1;33m)\u001b[0m\u001b[1;33m,\u001b[0m\u001b[0mmode\u001b[0m\u001b[1;33m=\u001b[0m\u001b[1;34m\"+w\"\u001b[0m\u001b[1;33m)\u001b[0m \u001b[1;32mas\u001b[0m \u001b[0mf\u001b[0m\u001b[1;33m:\u001b[0m\u001b[1;33m\u001b[0m\u001b[1;33m\u001b[0m\u001b[0m\n",
      "\u001b[1;32mC:\\ProgramData\\Anaconda3\\lib\\os.py\u001b[0m in \u001b[0;36mmakedirs\u001b[1;34m(name, mode, exist_ok)\u001b[0m\n\u001b[0;32m    223\u001b[0m             \u001b[1;32mreturn\u001b[0m\u001b[1;33m\u001b[0m\u001b[1;33m\u001b[0m\u001b[0m\n\u001b[0;32m    224\u001b[0m     \u001b[1;32mtry\u001b[0m\u001b[1;33m:\u001b[0m\u001b[1;33m\u001b[0m\u001b[1;33m\u001b[0m\u001b[0m\n\u001b[1;32m--> 225\u001b[1;33m         \u001b[0mmkdir\u001b[0m\u001b[1;33m(\u001b[0m\u001b[0mname\u001b[0m\u001b[1;33m,\u001b[0m \u001b[0mmode\u001b[0m\u001b[1;33m)\u001b[0m\u001b[1;33m\u001b[0m\u001b[1;33m\u001b[0m\u001b[0m\n\u001b[0m\u001b[0;32m    226\u001b[0m     \u001b[1;32mexcept\u001b[0m \u001b[0mOSError\u001b[0m\u001b[1;33m:\u001b[0m\u001b[1;33m\u001b[0m\u001b[1;33m\u001b[0m\u001b[0m\n\u001b[0;32m    227\u001b[0m         \u001b[1;31m# Cannot rely on checking for EEXIST, since the operating system\u001b[0m\u001b[1;33m\u001b[0m\u001b[1;33m\u001b[0m\u001b[0m\n",
      "\u001b[1;31mFileExistsError\u001b[0m: [WinError 183] Cannot create a file when that file already exists: 'archive\\\\VZ\\\\20221018064915\\\\0'"
     ]
    }
   ],
   "source": [
    "def colect_stock(ticker):\n",
    "    base_url=f\"https://finance.yahoo.com/quote/{ticker}/\"\n",
    "    \n",
    "    data=get_time_df(base_url)\n",
    "    data=time_df[data[\"statuscode\"].map(valid_code)]\n",
    "    data=data[data[\"timestamp\"].map(lambda x: int(x[0:6])>=201910)]\n",
    "    \n",
    "    thread_distribute(data.iloc[::-1].iloc,lambda x: save_page(x,os.path.join(\"archive\",ticker)))\n",
    "    \n",
    "colect_stock(\"VZ\")"
   ]
  },
  {
   "cell_type": "code",
   "execution_count": null,
   "id": "1e8e9376",
   "metadata": {},
   "outputs": [],
   "source": [
    "for stock in (\"T\",\"TMUS\"):\n",
    "    colect_stock(stock)"
   ]
  },
  {
   "cell_type": "code",
   "execution_count": 17,
   "id": "9b3ee17d",
   "metadata": {},
   "outputs": [
    {
     "ename": "NameError",
     "evalue": "name 'data' is not defined",
     "output_type": "error",
     "traceback": [
      "\u001b[1;31m---------------------------------------------------------------------------\u001b[0m",
      "\u001b[1;31mNameError\u001b[0m                                 Traceback (most recent call last)",
      "\u001b[1;32m~\\AppData\\Local\\Temp/ipykernel_25596/391604064.py\u001b[0m in \u001b[0;36m<module>\u001b[1;34m\u001b[0m\n\u001b[1;32m----> 1\u001b[1;33m \u001b[0mdata\u001b[0m\u001b[1;33m\u001b[0m\u001b[1;33m\u001b[0m\u001b[0m\n\u001b[0m",
      "\u001b[1;31mNameError\u001b[0m: name 'data' is not defined"
     ]
    }
   ],
   "source": []
  }
 ],
 "metadata": {
  "kernelspec": {
   "display_name": "Python 3 (ipykernel)",
   "language": "python",
   "name": "python3"
  },
  "language_info": {
   "codemirror_mode": {
    "name": "ipython",
    "version": 3
   },
   "file_extension": ".py",
   "mimetype": "text/x-python",
   "name": "python",
   "nbconvert_exporter": "python",
   "pygments_lexer": "ipython3",
   "version": "3.9.7"
  }
 },
 "nbformat": 4,
 "nbformat_minor": 5
}
