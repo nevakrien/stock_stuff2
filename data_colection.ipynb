{
 "cells": [
  {
   "cell_type": "markdown",
   "id": "dd1e287c",
   "metadata": {},
   "source": [
    "# key notes \n",
    "\n",
    "## data sources:\n",
    "1. reddit scraping while possible is probably too noisey to be useful\n",
    "\n",
    "2. yahoo scraping can be done by scraping the wayback machine recursively use the article tag with role=article (the rss vertion of it dosent have enough saves in waybckmachine)\n",
    "\n",
    "3. wikipedia scraping is very clean data but unfortunatly there isnt alot of changes so we are again data fin"
   ]
  },
  {
   "cell_type": "markdown",
   "id": "5fbff31a",
   "metadata": {},
   "source": [
    "## train strategy \n",
    "###### 1. seperate data into diffrent segments based on how frequantly it gets updated \n",
    "2. make a nested training loop that updates based on that frequncy. (this helps preventing needles recalculations)\n",
    "3. use an lstm on the price data that is prompted with extra information from the other segments"
   ]
  },
  {
   "cell_type": "code",
   "execution_count": 97,
   "id": "c2af75b6",
   "metadata": {},
   "outputs": [
    {
     "data": {
      "text/plain": [
       "4"
      ]
     },
     "execution_count": 97,
     "metadata": {},
     "output_type": "execute_result"
    }
   ],
   "source": [
    "import tensorflow as tf\n",
    "import numpy as np\n",
    "import random "
   ]
  },
  {
   "cell_type": "code",
   "execution_count": 137,
   "id": "e7a9fe32",
   "metadata": {},
   "outputs": [
    {
     "name": "stdout",
     "output_type": "stream",
     "text": [
      "len=3\n",
      "tf.Tensor([0 1 2 3], shape=(4,), dtype=int64)\n",
      "tf.Tensor([4 5 6 7], shape=(4,), dtype=int64)\n",
      "tf.Tensor([ 8  9 10 11], shape=(4,), dtype=int64)\n",
      "len=5\n",
      "tf.Tensor([1 2 3 4], shape=(4,), dtype=int64)\n",
      "tf.Tensor([5 6 7 8], shape=(4,), dtype=int64)\n",
      "tf.Tensor([ 9 10 11 12], shape=(4,), dtype=int64)\n",
      "tf.Tensor([13 14 15 16], shape=(4,), dtype=int64)\n",
      "tf.Tensor([17], shape=(1,), dtype=int64)\n",
      "len=4\n",
      "tf.Tensor([2 3 4 5], shape=(4,), dtype=int64)\n",
      "tf.Tensor([6 7 8 9], shape=(4,), dtype=int64)\n",
      "tf.Tensor([10 11 12 13], shape=(4,), dtype=int64)\n",
      "tf.Tensor([14], shape=(1,), dtype=int64)\n"
     ]
    }
   ],
   "source": [
    "#toy unbatched exmple\n",
    "tf.config.run_functions_eagerly(False)\n",
    "N=3\n",
    "big=tf.data.Dataset.range(N)\n",
    "r=tf.data.Dataset.random().map(lambda x: 4+x%20).take(N)\n",
    "small=tf.data.Dataset.zip((big,r))\n",
    "small=small.map(lambda x,r:tf.range(x,x+r))\n",
    "small=small.map(lambda x:tf.data.Dataset.from_tensor_slices(x).batch(4)).prefetch(tf.data.AUTOTUNE)\n",
    "for elem in small:\n",
    "    #big loop updates HERE\n",
    "    print(f\"len={len(elem)}\")\n",
    "    for x in elem:\n",
    "        #small loop updates HERE \n",
    "        print(x)\n",
    "tf.config.run_functions_eagerly(True)"
   ]
  },
  {
   "cell_type": "code",
   "execution_count": 129,
   "id": "3331a245",
   "metadata": {},
   "outputs": [
    {
     "data": {
      "text/plain": [
       "<tf.Tensor: shape=(), dtype=int64, numpy=226177639>"
      ]
     },
     "execution_count": 129,
     "metadata": {},
     "output_type": "execute_result"
    }
   ],
   "source": [
    "tf.data.Dataset.random().take(1).get_single_element()"
   ]
  },
  {
   "cell_type": "code",
   "execution_count": null,
   "id": "8db1c921",
   "metadata": {},
   "outputs": [],
   "source": []
  }
 ],
 "metadata": {
  "kernelspec": {
   "display_name": "Python 3 (ipykernel)",
   "language": "python",
   "name": "python3"
  },
  "language_info": {
   "codemirror_mode": {
    "name": "ipython",
    "version": 3
   },
   "file_extension": ".py",
   "mimetype": "text/x-python",
   "name": "python",
   "nbconvert_exporter": "python",
   "pygments_lexer": "ipython3",
   "version": "3.9.7"
  }
 },
 "nbformat": 4,
 "nbformat_minor": 5
}
